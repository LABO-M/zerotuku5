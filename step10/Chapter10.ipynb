{
 "cells": [
  {
   "cell_type": "markdown",
   "metadata": {},
   "source": [
    "# 拡散モデルの応用"
   ]
  },
  {
   "cell_type": "markdown",
   "metadata": {},
   "source": [
    "拡散モデルを応用した例として代表的なものにStableDiffusionなどのアプリケーションが挙げられます。  \n",
    "  \n",
    "これらは主にテキスト入力を基にした画像生成、画像に基づく画像生成などに用いられる。\n",
    "  \n",
    "この生成を実現させているのが「**条件付き拡散モデル**」である  "
   ]
  },
  {
   "cell_type": "markdown",
   "metadata": {},
   "source": [
    "## 条件付き拡散モデル\n",
    "\n",
    "これまでの章ではデータxの確率p(x)をモデル化してきましたが何かを生成するとなったとき条件が必要になります。  \n",
    "  \n",
    "その条件をyとするとモデル化したいのはp(x|y)ということになります。  \n",
    "  \n",
    "条件はさまざまありますがMNISTデータセットの画像を新たに作りたいならラベルが条件yに当たります。  \n",
    "  \n",
    "先程例に出したStableDiffusionでは入力テキストや画像が条件ということになります  \n",
    "  \n",
    "![alt text](pict10-1.png)"
   ]
  },
  {
   "cell_type": "markdown",
   "metadata": {},
   "source": [
    "### 拡散モデルの復習\n",
    "\n",
    "8章で学んだ拡散モデルのNNは以下のようでした。  \n",
    "  \n",
    "![alt text](pict10-2.png)  \n",
    "  \n",
    "それぞれ元画像を予測するモデルと追加されたノイズを予測するモデルでした。  \n",
    "  \n",
    "μ(x,t)をNNでモデル化する場合で考えると\n",
    "\n",
    "$$\n",
    "p_θ(x_{t-1}|x_t)=\\mathcal{N}(x_{t-1};μ_θ(x_t,t),σ_q^2(t)\\mathbb{I})\n",
    "$$\n",
    "\n",
    "$$\n",
    "p_\\theta(x_0)=\\int p_\\theta(x_0,x_1,\\cdots,x_T)dx_1\\cdots dx_t\n",
    "$$\n",
    "\n",
    "$$\n",
    "= \\int p_\\theta(x_0|x_1)\\cdots p_\\theta(x_{T-1}|x_T)p(x_T) dx_1\\cdots dx_T\n",
    "$$\n",
    "\n",
    "ではこの式にyの条件を追加します。\n",
    "\n",
    "$$\n",
    "p_\\theta(x_0|y)= \\int p_\\theta(x_0|x_1,y)\\cdots p_\\theta(x_{T-1}|x_T,y)p(x_T) dx_1\\cdots dx_T\n",
    "$$\n",
    "\n",
    "$$\n",
    "p_\\theta(x_{t-1}|x_t,y) = \\mathcal{N}(x_{t-1};\\mu _\\theta(x_t,t,y),\\sigma _q^2(t)\\mathbb{I})\n",
    "$$\n",
    "\n",
    "このようにyを条件に追加してモデル化できる  \n",
    "  \n",
    "同様にノイズを予測するモデルでもεの入力にyを追加することで対応できます  \n",
    "  \n",
    "![alt text](pict10-3.png)"
   ]
  },
  {
   "cell_type": "markdown",
   "metadata": {},
   "source": [
    "## 条件付き拡散モデルの実装\n"
   ]
  },
  {
   "cell_type": "markdown",
   "metadata": {},
   "source": [
    "前章で位置情報tは正弦波位置エンコーディングによってベクトルへと変換しました。  \n",
    "  \n",
    "今回yはラベル情報なのでyも同様にベクトル変換を施す必要があります。  \n",
    "  \n",
    "ではyのベクトル変換を追加したUNetCondクラスを実装していきます"
   ]
  },
  {
   "cell_type": "code",
   "execution_count": null,
   "metadata": {},
   "outputs": [
    {
     "name": "stderr",
     "output_type": "stream",
     "text": [
      "/home/yoshida/.pyenv/versions/3.11.8/lib/python3.11/site-packages/torch/cuda/__init__.py:129: UserWarning: CUDA initialization: CUDA unknown error - this may be due to an incorrectly set up environment, e.g. changing env variable CUDA_VISIBLE_DEVICES after program start. Setting the available devices to be zero. (Triggered internally at ../c10/cuda/CUDAFunctions.cpp:108.)\n",
      "  return torch._C._cuda_getDeviceCount() > 0\n"
     ]
    }
   ],
   "source": [
    "import math\n",
    "import torch\n",
    "import torchvision\n",
    "import matplotlib.pyplot as plt\n",
    "from torchvision import transforms\n",
    "from torch.utils.data import DataLoader\n",
    "from torch.optim import Adam\n",
    "import torch.nn.functional as F\n",
    "from torch import nn\n",
    "from tqdm import tqdm\n",
    "\n",
    "\n",
    "img_size = 28\n",
    "batch_size = 128\n",
    "num_timesteps = 1000\n",
    "epochs = 10\n",
    "lr = 1e-3\n",
    "device = 'cuda' if torch.cuda.is_available() else 'cpu'\n",
    "\n",
    "\n",
    "def show_images(images, labels=None, rows=2, cols=10):\n",
    "    fig = plt.figure(figsize=(cols, rows))\n",
    "    i = 0\n",
    "    for r in range(rows):\n",
    "        for c in range(cols):\n",
    "            ax = fig.add_subplot(rows, cols, i + 1)\n",
    "            plt.imshow(images[i], cmap='gray')\n",
    "            if labels is not None:\n",
    "                ax.set_xlabel(labels[i].item())\n",
    "            ax.get_xaxis().set_ticks([])\n",
    "            ax.get_yaxis().set_ticks([])\n",
    "            i += 1\n",
    "    plt.tight_layout()\n",
    "    plt.show()\n",
    "\n",
    "def _pos_encoding(time_idx, output_dim, device='cpu'):\n",
    "    t, D = time_idx, output_dim\n",
    "    v = torch.zeros(D, device=device)\n",
    "\n",
    "    i = torch.arange(0, D, device=device)\n",
    "    div_term = torch.exp(i / D * math.log(10000))\n",
    "\n",
    "    v[0::2] = torch.sin(t / div_term[0::2])\n",
    "    v[1::2] = torch.cos(t / div_term[1::2])\n",
    "    return v\n",
    "\n",
    "def pos_encoding(timesteps, output_dim, device='cpu'):\n",
    "    batch_size = len(timesteps)\n",
    "    device = timesteps.device\n",
    "    v = torch.zeros(batch_size, output_dim, device=device)\n",
    "    for i in range(batch_size):\n",
    "        v[i] = _pos_encoding(timesteps[i], output_dim, device)\n",
    "    return v\n",
    "\n",
    "class ConvBlock(nn.Module):\n",
    "    def __init__(self, in_ch, out_ch, time_embed_dim):\n",
    "        super().__init__()\n",
    "        self.convs = nn.Sequential(\n",
    "            nn.Conv2d(in_ch, out_ch, 3, padding=1),\n",
    "            nn.BatchNorm2d(out_ch),\n",
    "            nn.ReLU(),\n",
    "            nn.Conv2d(out_ch, out_ch, 3, padding=1),\n",
    "            nn.BatchNorm2d(out_ch),\n",
    "            nn.ReLU()\n",
    "        )\n",
    "        self.mlp = nn.Sequential(\n",
    "            nn.Linear(time_embed_dim, in_ch),\n",
    "            nn.ReLU(),\n",
    "            nn.Linear(in_ch, in_ch)\n",
    "        )\n",
    "\n",
    "    def forward(self, x, v):\n",
    "        N, C, _, _ = x.shape\n",
    "        v = self.mlp(v)\n",
    "        v = v.view(N, C, 1, 1)\n",
    "        y = self.convs(x + v)\n",
    "        return y\n",
    "\n",
    "class UNetCond(nn.Module):\n",
    "    def __init__(self, in_ch=1, time_embed_dim=100, num_labels=None):\n",
    "        super().__init__()\n",
    "        self.time_embed_dim = time_embed_dim\n",
    "\n",
    "        self.down1 = ConvBlock(in_ch, 64, time_embed_dim)\n",
    "        self.down2 = ConvBlock(64, 128, time_embed_dim)\n",
    "        self.bot1 = ConvBlock(128, 256, time_embed_dim)\n",
    "        self.up2 = ConvBlock(128 + 256, 128, time_embed_dim)\n",
    "        self.up1 = ConvBlock(128 + 64, 64, time_embed_dim)\n",
    "        self.out = nn.Conv2d(64, in_ch, 1)\n",
    "\n",
    "        self.maxpool = nn.MaxPool2d(2)\n",
    "        self.upsample = nn.Upsample(scale_factor=2, mode='bilinear')\n",
    "\n",
    "        #①ラベルの埋め込み層\n",
    "        if num_labels is not None:\n",
    "            self.label_emb = nn.Embedding(num_labels, time_embed_dim)\n",
    "\n",
    "    def forward(self, x, timesteps, labels=None):\n",
    "        t = pos_encoding(timesteps, self.time_embed_dim)\n",
    "\n",
    "        #②ラベルの処理\n",
    "        if labels is not None:\n",
    "            t += self.label_emb(labels)\n",
    "\n",
    "        x1 = self.down1(x, t)\n",
    "        x = self.maxpool(x1)\n",
    "        x2 = self.down2(x, t)\n",
    "        x = self.maxpool(x2)\n",
    "\n",
    "        x = self.bot1(x, t)\n",
    "\n",
    "        x = self.upsample(x)\n",
    "        x = torch.cat([x, x2], dim=1)\n",
    "        x = self.up2(x, t)\n",
    "        x = self.upsample(x)\n",
    "        x = torch.cat([x, x1], dim=1)\n",
    "        x = self.up1(x, t)\n",
    "        x = self.out(x)\n",
    "        return x"
   ]
  },
  {
   "cell_type": "code",
   "execution_count": 8,
   "metadata": {},
   "outputs": [],
   "source": [
    "class Diffuser:\n",
    "    def __init__(self, num_timesteps=1000, beta_start=0.0001, beta_end=0.02, device='cpu'):\n",
    "        self.num_timesteps = num_timesteps\n",
    "        self.device = device\n",
    "        self.betas = torch.linspace(beta_start, beta_end, num_timesteps, device=device)\n",
    "        self.alphas = 1 - self.betas\n",
    "        self.alpha_bars = torch.cumprod(self.alphas, dim=0)\n",
    "\n",
    "    def add_noise(self, x_0, t):\n",
    "        T = self.num_timesteps\n",
    "        assert (t >= 1).all() and (t <= T).all()\n",
    "\n",
    "        t_idx = t - 1  # alpha_bars[0] is for t=1\n",
    "        alpha_bar = self.alpha_bars[t_idx]  # (N,)\n",
    "        alpha_bar = alpha_bar.view(alpha_bar.size(0), 1, 1, 1)  # (N, 1, 1, 1)\n",
    "\n",
    "        noise = torch.randn_like(x_0, device=self.device)\n",
    "        x_t = torch.sqrt(alpha_bar) * x_0 + torch.sqrt(1 - alpha_bar) * noise\n",
    "        return x_t, noise\n",
    "\n",
    "    def denoise(self, model, x, t, labels):\n",
    "        T = self.num_timesteps\n",
    "        assert (t >= 1).all() and (t <= T).all()\n",
    "\n",
    "        t_idx = t - 1  # alphas[0] is for t=1\n",
    "        alpha = self.alphas[t_idx]\n",
    "        alpha_bar = self.alpha_bars[t_idx]\n",
    "        alpha_bar_prev = self.alpha_bars[t_idx-1]\n",
    "\n",
    "        N = alpha.size(0)\n",
    "        alpha = alpha.view(N, 1, 1, 1)\n",
    "        alpha_bar = alpha_bar.view(N, 1, 1, 1)\n",
    "        alpha_bar_prev = alpha_bar_prev.view(N, 1, 1, 1)\n",
    "\n",
    "        model.eval()\n",
    "        with torch.no_grad():\n",
    "            eps = model(x, t, labels)  # add lable embedding\n",
    "        model.train()\n",
    "\n",
    "        noise = torch.randn_like(x, device=self.device)\n",
    "        noise[t == 1] = 0  # no noise at t=1\n",
    "\n",
    "        mu = (x - ((1-alpha) / torch.sqrt(1-alpha_bar)) * eps) / torch.sqrt(alpha)\n",
    "        std = torch.sqrt((1-alpha) * (1-alpha_bar_prev) / (1-alpha_bar))\n",
    "        return mu + noise * std\n",
    "\n",
    "    def reverse_to_img(self, x):\n",
    "        x = x * 255\n",
    "        x = x.clamp(0, 255)\n",
    "        x = x.to(torch.uint8)\n",
    "        x = x.cpu()\n",
    "        to_pil = transforms.ToPILImage()\n",
    "        return to_pil(x)\n",
    "\n",
    "    def sample(self, model, x_shape=(20, 1, 28, 28), labels=None):\n",
    "        batch_size = x_shape[0]\n",
    "        x = torch.randn(x_shape, device=self.device)\n",
    "        if labels is None:\n",
    "            labels = torch.randint(0, 10, (len(x),), device=self.device)\n",
    "\n",
    "        for i in tqdm(range(self.num_timesteps, 0, -1)):\n",
    "            t = torch.tensor([i] * batch_size, device=self.device, dtype=torch.long)\n",
    "            x = self.denoise(model, x, t, labels)\n",
    "\n",
    "        images = [self.reverse_to_img(x[i]) for i in range(batch_size)]\n",
    "        return images, labels\n"
   ]
  },
  {
   "cell_type": "code",
   "execution_count": 9,
   "metadata": {},
   "outputs": [
    {
     "name": "stdout",
     "output_type": "stream",
     "text": [
      "Downloading http://yann.lecun.com/exdb/mnist/train-images-idx3-ubyte.gz\n",
      "Failed to download (trying next):\n",
      "HTTP Error 403: Forbidden\n",
      "\n",
      "Downloading https://ossci-datasets.s3.amazonaws.com/mnist/train-images-idx3-ubyte.gz\n",
      "Downloading https://ossci-datasets.s3.amazonaws.com/mnist/train-images-idx3-ubyte.gz to ./data/MNIST/raw/train-images-idx3-ubyte.gz\n"
     ]
    },
    {
     "name": "stderr",
     "output_type": "stream",
     "text": [
      "100%|██████████| 9.91M/9.91M [00:03<00:00, 2.68MB/s]\n"
     ]
    },
    {
     "name": "stdout",
     "output_type": "stream",
     "text": [
      "Extracting ./data/MNIST/raw/train-images-idx3-ubyte.gz to ./data/MNIST/raw\n",
      "\n",
      "Downloading http://yann.lecun.com/exdb/mnist/train-labels-idx1-ubyte.gz\n",
      "Failed to download (trying next):\n",
      "HTTP Error 403: Forbidden\n",
      "\n",
      "Downloading https://ossci-datasets.s3.amazonaws.com/mnist/train-labels-idx1-ubyte.gz\n",
      "Downloading https://ossci-datasets.s3.amazonaws.com/mnist/train-labels-idx1-ubyte.gz to ./data/MNIST/raw/train-labels-idx1-ubyte.gz\n"
     ]
    },
    {
     "name": "stderr",
     "output_type": "stream",
     "text": [
      "100%|██████████| 28.9k/28.9k [00:00<00:00, 160kB/s]\n"
     ]
    },
    {
     "name": "stdout",
     "output_type": "stream",
     "text": [
      "Extracting ./data/MNIST/raw/train-labels-idx1-ubyte.gz to ./data/MNIST/raw\n",
      "\n",
      "Downloading http://yann.lecun.com/exdb/mnist/t10k-images-idx3-ubyte.gz\n",
      "Failed to download (trying next):\n",
      "HTTP Error 403: Forbidden\n",
      "\n",
      "Downloading https://ossci-datasets.s3.amazonaws.com/mnist/t10k-images-idx3-ubyte.gz\n",
      "Downloading https://ossci-datasets.s3.amazonaws.com/mnist/t10k-images-idx3-ubyte.gz to ./data/MNIST/raw/t10k-images-idx3-ubyte.gz\n"
     ]
    },
    {
     "name": "stderr",
     "output_type": "stream",
     "text": [
      "100%|██████████| 1.65M/1.65M [00:01<00:00, 1.58MB/s]\n"
     ]
    },
    {
     "name": "stdout",
     "output_type": "stream",
     "text": [
      "Extracting ./data/MNIST/raw/t10k-images-idx3-ubyte.gz to ./data/MNIST/raw\n",
      "\n",
      "Downloading http://yann.lecun.com/exdb/mnist/t10k-labels-idx1-ubyte.gz\n",
      "Failed to download (trying next):\n",
      "HTTP Error 403: Forbidden\n",
      "\n",
      "Downloading https://ossci-datasets.s3.amazonaws.com/mnist/t10k-labels-idx1-ubyte.gz\n",
      "Downloading https://ossci-datasets.s3.amazonaws.com/mnist/t10k-labels-idx1-ubyte.gz to ./data/MNIST/raw/t10k-labels-idx1-ubyte.gz\n"
     ]
    },
    {
     "name": "stderr",
     "output_type": "stream",
     "text": [
      "100%|██████████| 4.54k/4.54k [00:00<00:00, 10.9MB/s]\n"
     ]
    },
    {
     "name": "stdout",
     "output_type": "stream",
     "text": [
      "Extracting ./data/MNIST/raw/t10k-labels-idx1-ubyte.gz to ./data/MNIST/raw\n",
      "\n"
     ]
    },
    {
     "name": "stderr",
     "output_type": "stream",
     "text": [
      "100%|██████████| 469/469 [07:36<00:00,  1.03it/s]\n"
     ]
    },
    {
     "name": "stdout",
     "output_type": "stream",
     "text": [
      "Epoch 0 | Loss: 0.049146399005199036\n"
     ]
    },
    {
     "name": "stderr",
     "output_type": "stream",
     "text": [
      "100%|██████████| 469/469 [07:41<00:00,  1.02it/s]\n"
     ]
    },
    {
     "name": "stdout",
     "output_type": "stream",
     "text": [
      "Epoch 1 | Loss: 0.02586794200180563\n"
     ]
    },
    {
     "name": "stderr",
     "output_type": "stream",
     "text": [
      "100%|██████████| 469/469 [07:57<00:00,  1.02s/it]\n"
     ]
    },
    {
     "name": "stdout",
     "output_type": "stream",
     "text": [
      "Epoch 2 | Loss: 0.02300402133671968\n"
     ]
    },
    {
     "name": "stderr",
     "output_type": "stream",
     "text": [
      "100%|██████████| 469/469 [08:13<00:00,  1.05s/it]\n"
     ]
    },
    {
     "name": "stdout",
     "output_type": "stream",
     "text": [
      "Epoch 3 | Loss: 0.021240384522468042\n"
     ]
    },
    {
     "name": "stderr",
     "output_type": "stream",
     "text": [
      "100%|██████████| 469/469 [07:50<00:00,  1.00s/it]\n"
     ]
    },
    {
     "name": "stdout",
     "output_type": "stream",
     "text": [
      "Epoch 4 | Loss: 0.020092260430076482\n"
     ]
    },
    {
     "name": "stderr",
     "output_type": "stream",
     "text": [
      "100%|██████████| 469/469 [07:50<00:00,  1.00s/it]\n"
     ]
    },
    {
     "name": "stdout",
     "output_type": "stream",
     "text": [
      "Epoch 5 | Loss: 0.01941182227459734\n"
     ]
    },
    {
     "name": "stderr",
     "output_type": "stream",
     "text": [
      "100%|██████████| 469/469 [07:46<00:00,  1.01it/s]\n"
     ]
    },
    {
     "name": "stdout",
     "output_type": "stream",
     "text": [
      "Epoch 6 | Loss: 0.018845362906485225\n"
     ]
    },
    {
     "name": "stderr",
     "output_type": "stream",
     "text": [
      "100%|██████████| 469/469 [07:44<00:00,  1.01it/s]\n"
     ]
    },
    {
     "name": "stdout",
     "output_type": "stream",
     "text": [
      "Epoch 7 | Loss: 0.018302378898013883\n"
     ]
    },
    {
     "name": "stderr",
     "output_type": "stream",
     "text": [
      "100%|██████████| 469/469 [08:17<00:00,  1.06s/it]\n"
     ]
    },
    {
     "name": "stdout",
     "output_type": "stream",
     "text": [
      "Epoch 8 | Loss: 0.018112658981734246\n"
     ]
    },
    {
     "name": "stderr",
     "output_type": "stream",
     "text": [
      "100%|██████████| 469/469 [07:59<00:00,  1.02s/it]"
     ]
    },
    {
     "name": "stdout",
     "output_type": "stream",
     "text": [
      "Epoch 9 | Loss: 0.017569303619804414\n"
     ]
    },
    {
     "name": "stderr",
     "output_type": "stream",
     "text": [
      "\n"
     ]
    },
    {
     "data": {
      "image/png": "[encoded data removed]",
      "text/plain": [
       "<Figure size 640x480 with 1 Axes>"
      ]
     },
     "metadata": {},
     "output_type": "display_data"
    },
    {
     "name": "stderr",
     "output_type": "stream",
     "text": [
      "100%|██████████| 1000/1000 [00:53<00:00, 18.70it/s]\n"
     ]
    },
    {
     "data": {
      "image/png": "[encoded data removed]",
      "text/plain": [
       "<Figure size 1000x200 with 20 Axes>"
      ]
     },
     "metadata": {},
     "output_type": "display_data"
    }
   ],
   "source": [
    "\n",
    "preprocess = transforms.ToTensor()\n",
    "dataset = torchvision.datasets.MNIST(root='./data', download=True, transform=preprocess)\n",
    "dataloader = DataLoader(dataset, batch_size=batch_size, shuffle=True)\n",
    "\n",
    "diffuser = Diffuser(num_timesteps, device=device)\n",
    "model = UNetCond(num_labels=10)\n",
    "model.to(device)\n",
    "optimizer = Adam(model.parameters(), lr=lr)\n",
    "\n",
    "losses = []\n",
    "for epoch in range(epochs):\n",
    "    loss_sum = 0.0\n",
    "    cnt = 0\n",
    "\n",
    "    # generate samples every epoch ===================\n",
    "    #images, labels = diffuser.sample(model)\n",
    "    #show_images(images, labels)\n",
    "    # ================================================\n",
    "\n",
    "    for images, labels in tqdm(dataloader):\n",
    "        optimizer.zero_grad()\n",
    "        x = images.to(device)\n",
    "        labels = labels.to(device)\n",
    "        t = torch.randint(1, num_timesteps+1, (len(x),), device=device)\n",
    "\n",
    "        x_noisy, noise = diffuser.add_noise(x, t)\n",
    "        noise_pred = model(x_noisy, t, labels)\n",
    "        loss = F.mse_loss(noise, noise_pred)\n",
    "\n",
    "        loss.backward()\n",
    "        optimizer.step()\n",
    "\n",
    "        loss_sum += loss.item()\n",
    "        cnt += 1\n",
    "\n",
    "    loss_avg = loss_sum / cnt\n",
    "    losses.append(loss_avg)\n",
    "    print(f'Epoch {epoch} | Loss: {loss_avg}')\n",
    "\n",
    "# plot losses\n",
    "plt.plot(losses)\n",
    "plt.xlabel('Epoch')\n",
    "plt.ylabel('Loss')\n",
    "plt.show()\n",
    "\n",
    "# generate samples\n",
    "images, labels = diffuser.sample(model)\n",
    "show_images(images, labels)"
   ]
  }
 ],
 "metadata": {
  "kernelspec": {
   "display_name": "Python 3",
   "language": "python",
   "name": "python3"
  },
  "language_info": {
   "codemirror_mode": {
    "name": "ipython",
    "version": 3
   },
   "file_extension": ".py",
   "mimetype": "text/x-python",
   "name": "python",
   "nbconvert_exporter": "python",
   "pygments_lexer": "ipython3",
   "version": "3.11.8"
  }
 },
 "nbformat": 4,
 "nbformat_minor": 2
}
