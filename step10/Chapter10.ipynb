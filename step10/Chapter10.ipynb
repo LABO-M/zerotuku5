{
 "cells": [
  {
   "cell_type": "markdown",
   "metadata": {},
   "source": [
    "# 拡散モデルの応用"
   ]
  },
  {
   "cell_type": "markdown",
   "metadata": {},
   "source": [
    "拡散モデルを応用した例として代表的なものにStableDiffusionなどのアプリケーションが挙げられます。  \n",
    "  \n",
    "これらは主にテキスト入力を基にした画像生成、画像に基づく画像生成などに用いられる。\n",
    "  \n",
    "この生成を実現させているのが「**条件付き拡散モデル**」である  "
   ]
  },
  {
   "cell_type": "markdown",
   "metadata": {},
   "source": [
    "## 条件付き拡散モデル\n",
    "\n",
    "これまでの章ではデータxの確率p(x)をモデル化してきましたが何かを生成するとなったとき条件が必要になります。  \n",
    "  \n",
    "その条件をyとするとモデル化したいのはp(x|y)ということになります。  \n",
    "  \n",
    "条件はさまざまありますがMNISTデータセットの画像を新たに作りたいならラベルが条件yに当たります。  \n",
    "  \n",
    "先程例に出したStableDiffusionでは入力テキストや画像が条件ということになります  \n",
    "  \n",
    "![alt text](pict10-1.png)"
   ]
  },
  {
   "cell_type": "markdown",
   "metadata": {},
   "source": [
    "### 拡散モデルの復習\n",
    "\n",
    "8章で学んだ拡散モデルのNNは以下のようでした。  \n",
    "  \n",
    "![alt text](pict10-2.png)  \n",
    "  \n",
    "それぞれ元画像を予測するモデルと追加されたノイズを予測するモデルでした。  \n",
    "  \n",
    "μ(x,t)をNNでモデル化する場合で考えると\n",
    "\n",
    "$$\n",
    "p_θ(x_{t-1}|x_t)=\\mathcal{N}(x_{t-1};μ_θ(x_t,t),σ_q^2(t)\\mathbb{I})\n",
    "$$\n",
    "\n",
    "$$\n",
    "p_\\theta(x_0)=\\int p_\\theta(x_0,x_1,\\cdots,x_T)dx_1\\cdots dx_t\n",
    "$$\n",
    "\n",
    "$$\n",
    "= \\int p_\\theta(x_0|x_1)\\cdots p_\\theta(x_{T-1}|x_T)p(x_T) dx_1\\cdots dx_T\n",
    "$$\n",
    "\n",
    "ではこの式にyの条件を追加します。\n",
    "\n",
    "$$\n",
    "p_\\theta(x_0|y)= \\int p_\\theta(x_0|x_1,y)\\cdots p_\\theta(x_{T-1}|x_T,y)p(x_T) dx_1\\cdots dx_T\n",
    "$$\n",
    "\n",
    "$$\n",
    "p_\\theta(x_{t-1}|x_t,y) = \\mathcal{N}(x_{t-1};\\mu _\\theta(x_t,t,y),\\sigma _q^2(t)\\mathbb{I})\n",
    "$$\n",
    "\n",
    "このようにyを条件に追加してモデル化できる  \n",
    "  \n",
    "同様にノイズを予測するモデルでもεの入力にyを追加することで対応できます  \n",
    "  \n",
    "![alt text](pict10-3.png)"
   ]
  },
  {
   "cell_type": "markdown",
   "metadata": {},
   "source": [
    "## 条件付き拡散モデルの実装\n"
   ]
  },
  {
   "cell_type": "markdown",
   "metadata": {},
   "source": [
    "前章で位置情報tは正弦波位置エンコーディングによってベクトルへと変換しました。  \n",
    "  \n",
    "今回yはラベル情報なのでyも同様にベクトル変換を施す必要があります。  \n",
    "  \n",
    "ではyのベクトル変換を追加したUNetCondクラスを実装していきます"
   ]
  },
  {
   "cell_type": "code",
   "execution_count": null,
   "metadata": {},
   "outputs": [
    {
     "name": "stderr",
     "output_type": "stream",
     "text": [
      "/home/yoshida/.pyenv/versions/3.11.8/lib/python3.11/site-packages/torch/cuda/__init__.py:129: UserWarning: CUDA initialization: CUDA unknown error - this may be due to an incorrectly set up environment, e.g. changing env variable CUDA_VISIBLE_DEVICES after program start. Setting the available devices to be zero. (Triggered internally at ../c10/cuda/CUDAFunctions.cpp:108.)\n",
      "  return torch._C._cuda_getDeviceCount() > 0\n"
     ]
    }
   ],
   "source": [
    "import math\n",
    "import torch\n",
    "import torchvision\n",
    "import matplotlib.pyplot as plt\n",
    "from torchvision import transforms\n",
    "from torch.utils.data import DataLoader\n",
    "from torch.optim import Adam\n",
    "import torch.nn.functional as F\n",
    "from torch import nn\n",
    "from tqdm import tqdm\n",
    "\n",
    "\n",
    "img_size = 28\n",
    "batch_size = 128\n",
    "num_timesteps = 1000\n",
    "epochs = 10\n",
    "lr = 1e-3\n",
    "device = 'cuda' if torch.cuda.is_available() else 'cpu'\n",
    "\n",
    "\n",
    "def show_images(images, labels=None, rows=2, cols=10):\n",
    "    fig = plt.figure(figsize=(cols, rows))\n",
    "    i = 0\n",
    "    for r in range(rows):\n",
    "        for c in range(cols):\n",
    "            ax = fig.add_subplot(rows, cols, i + 1)\n",
    "            plt.imshow(images[i], cmap='gray')\n",
    "            if labels is not None:\n",
    "                ax.set_xlabel(labels[i].item())\n",
    "            ax.get_xaxis().set_ticks([])\n",
    "            ax.get_yaxis().set_ticks([])\n",
    "            i += 1\n",
    "    plt.tight_layout()\n",
    "    plt.show()\n",
    "\n",
    "def _pos_encoding(time_idx, output_dim, device='cpu'):\n",
    "    t, D = time_idx, output_dim\n",
    "    v = torch.zeros(D, device=device)\n",
    "\n",
    "    i = torch.arange(0, D, device=device)\n",
    "    div_term = torch.exp(i / D * math.log(10000))\n",
    "\n",
    "    v[0::2] = torch.sin(t / div_term[0::2])\n",
    "    v[1::2] = torch.cos(t / div_term[1::2])\n",
    "    return v\n",
    "\n",
    "def pos_encoding(timesteps, output_dim, device='cpu'):\n",
    "    batch_size = len(timesteps)\n",
    "    device = timesteps.device\n",
    "    v = torch.zeros(batch_size, output_dim, device=device)\n",
    "    for i in range(batch_size):\n",
    "        v[i] = _pos_encoding(timesteps[i], output_dim, device)\n",
    "    return v\n",
    "\n",
    "class ConvBlock(nn.Module):\n",
    "    def __init__(self, in_ch, out_ch, time_embed_dim):\n",
    "        super().__init__()\n",
    "        self.convs = nn.Sequential(\n",
    "            nn.Conv2d(in_ch, out_ch, 3, padding=1),\n",
    "            nn.BatchNorm2d(out_ch),\n",
    "            nn.ReLU(),\n",
    "            nn.Conv2d(out_ch, out_ch, 3, padding=1),\n",
    "            nn.BatchNorm2d(out_ch),\n",
    "            nn.ReLU()\n",
    "        )\n",
    "        self.mlp = nn.Sequential(\n",
    "            nn.Linear(time_embed_dim, in_ch),\n",
    "            nn.ReLU(),\n",
    "            nn.Linear(in_ch, in_ch)\n",
    "        )\n",
    "\n",
    "    def forward(self, x, v):\n",
    "        N, C, _, _ = x.shape\n",
    "        v = self.mlp(v)\n",
    "        v = v.view(N, C, 1, 1)\n",
    "        y = self.convs(x + v)\n",
    "        return y\n",
    "\n",
    "class UNetCond(nn.Module):\n",
    "    def __init__(self, in_ch=1, time_embed_dim=100, num_labels=None):\n",
    "        super().__init__()\n",
    "        self.time_embed_dim = time_embed_dim\n",
    "\n",
    "        self.down1 = ConvBlock(in_ch, 64, time_embed_dim)\n",
    "        self.down2 = ConvBlock(64, 128, time_embed_dim)\n",
    "        self.bot1 = ConvBlock(128, 256, time_embed_dim)\n",
    "        self.up2 = ConvBlock(128 + 256, 128, time_embed_dim)\n",
    "        self.up1 = ConvBlock(128 + 64, 64, time_embed_dim)\n",
    "        self.out = nn.Conv2d(64, in_ch, 1)\n",
    "\n",
    "        self.maxpool = nn.MaxPool2d(2)\n",
    "        self.upsample = nn.Upsample(scale_factor=2, mode='bilinear')\n",
    "\n",
    "        #①ラベルの埋め込み層\n",
    "        if num_labels is not None:\n",
    "            self.label_emb = nn.Embedding(num_labels, time_embed_dim)\n",
    "\n",
    "    def forward(self, x, timesteps, labels=None):\n",
    "        t = pos_encoding(timesteps, self.time_embed_dim)\n",
    "\n",
    "        #②ラベルの処理\n",
    "        if labels is not None:\n",
    "            t += self.label_emb(labels) #ラベル処理後に時刻データに加算\n",
    "\n",
    "        x1 = self.down1(x, t)\n",
    "        x = self.maxpool(x1)\n",
    "        x2 = self.down2(x, t)\n",
    "        x = self.maxpool(x2)\n",
    "\n",
    "        x = self.bot1(x, t)\n",
    "\n",
    "        x = self.upsample(x)\n",
    "        x = torch.cat([x, x2], dim=1)\n",
    "        x = self.up2(x, t)\n",
    "        x = self.upsample(x)\n",
    "        x = torch.cat([x, x1], dim=1)\n",
    "        x = self.up1(x, t)\n",
    "        x = self.out(x)\n",
    "        return x"
   ]
  },
  {
   "cell_type": "code",
   "execution_count": 8,
   "metadata": {},
   "outputs": [],
   "source": [
    "class Diffuser:\n",
    "    def __init__(self, num_timesteps=1000, beta_start=0.0001, beta_end=0.02, device='cpu'):\n",
    "        self.num_timesteps = num_timesteps\n",
    "        self.device = device\n",
    "        self.betas = torch.linspace(beta_start, beta_end, num_timesteps, device=device)\n",
    "        self.alphas = 1 - self.betas\n",
    "        self.alpha_bars = torch.cumprod(self.alphas, dim=0)\n",
    "\n",
    "    def add_noise(self, x_0, t):\n",
    "        T = self.num_timesteps\n",
    "        assert (t >= 1).all() and (t <= T).all()\n",
    "\n",
    "        t_idx = t - 1  # alpha_bars[0] is for t=1\n",
    "        alpha_bar = self.alpha_bars[t_idx]  # (N,)\n",
    "        alpha_bar = alpha_bar.view(alpha_bar.size(0), 1, 1, 1)  # (N, 1, 1, 1)\n",
    "\n",
    "        noise = torch.randn_like(x_0, device=self.device)\n",
    "        x_t = torch.sqrt(alpha_bar) * x_0 + torch.sqrt(1 - alpha_bar) * noise\n",
    "        return x_t, noise\n",
    "\n",
    "    def denoise(self, model, x, t, labels):\n",
    "        T = self.num_timesteps\n",
    "        assert (t >= 1).all() and (t <= T).all()\n",
    "\n",
    "        t_idx = t - 1  # alphas[0] is for t=1\n",
    "        alpha = self.alphas[t_idx]\n",
    "        alpha_bar = self.alpha_bars[t_idx]\n",
    "        alpha_bar_prev = self.alpha_bars[t_idx-1]\n",
    "\n",
    "        N = alpha.size(0)\n",
    "        alpha = alpha.view(N, 1, 1, 1)\n",
    "        alpha_bar = alpha_bar.view(N, 1, 1, 1)\n",
    "        alpha_bar_prev = alpha_bar_prev.view(N, 1, 1, 1)\n",
    "\n",
    "        model.eval()\n",
    "        with torch.no_grad():\n",
    "            eps = model(x, t, labels)  # add lable embedding\n",
    "        model.train()\n",
    "\n",
    "        noise = torch.randn_like(x, device=self.device)\n",
    "        noise[t == 1] = 0  # no noise at t=1\n",
    "\n",
    "        mu = (x - ((1-alpha) / torch.sqrt(1-alpha_bar)) * eps) / torch.sqrt(alpha)\n",
    "        std = torch.sqrt((1-alpha) * (1-alpha_bar_prev) / (1-alpha_bar))\n",
    "        return mu + noise * std\n",
    "\n",
    "    def reverse_to_img(self, x):\n",
    "        x = x * 255\n",
    "        x = x.clamp(0, 255)\n",
    "        x = x.to(torch.uint8)\n",
    "        x = x.cpu()\n",
    "        to_pil = transforms.ToPILImage()\n",
    "        return to_pil(x)\n",
    "\n",
    "    def sample(self, model, x_shape=(20, 1, 28, 28), labels=None):\n",
    "        batch_size = x_shape[0]\n",
    "        x = torch.randn(x_shape, device=self.device)\n",
    "        if labels is None:\n",
    "            labels = torch.randint(0, 10, (len(x),), device=self.device)\n",
    "\n",
    "        for i in tqdm(range(self.num_timesteps, 0, -1)):\n",
    "            t = torch.tensor([i] * batch_size, device=self.device, dtype=torch.long)\n",
    "            x = self.denoise(model, x, t, labels)\n",
    "\n",
    "        images = [self.reverse_to_img(x[i]) for i in range(batch_size)]\n",
    "        return images, labels\n"
   ]
  },
  {
   "cell_type": "code",
   "execution_count": null,
   "metadata": {},
   "outputs": [
    {
     "name": "stdout",
     "output_type": "stream",
     "text": [
      "Downloading http://yann.lecun.com/exdb/mnist/train-images-idx3-ubyte.gz\n",
      "Failed to download (trying next):\n",
      "HTTP Error 403: Forbidden\n",
      "\n",
      "Downloading https://ossci-datasets.s3.amazonaws.com/mnist/train-images-idx3-ubyte.gz\n",
      "Downloading https://ossci-datasets.s3.amazonaws.com/mnist/train-images-idx3-ubyte.gz to ./data/MNIST/raw/train-images-idx3-ubyte.gz\n"
     ]
    },
    {
     "name": "stderr",
     "output_type": "stream",
     "text": [
      "100%|██████████| 9.91M/9.91M [00:03<00:00, 2.68MB/s]\n"
     ]
    },
    {
     "name": "stdout",
     "output_type": "stream",
     "text": [
      "Extracting ./data/MNIST/raw/train-images-idx3-ubyte.gz to ./data/MNIST/raw\n",
      "\n",
      "Downloading http://yann.lecun.com/exdb/mnist/train-labels-idx1-ubyte.gz\n",
      "Failed to download (trying next):\n",
      "HTTP Error 403: Forbidden\n",
      "\n",
      "Downloading https://ossci-datasets.s3.amazonaws.com/mnist/train-labels-idx1-ubyte.gz\n",
      "Downloading https://ossci-datasets.s3.amazonaws.com/mnist/train-labels-idx1-ubyte.gz to ./data/MNIST/raw/train-labels-idx1-ubyte.gz\n"
     ]
    },
    {
     "name": "stderr",
     "output_type": "stream",
     "text": [
      "100%|██████████| 28.9k/28.9k [00:00<00:00, 160kB/s]\n"
     ]
    },
    {
     "name": "stdout",
     "output_type": "stream",
     "text": [
      "Extracting ./data/MNIST/raw/train-labels-idx1-ubyte.gz to ./data/MNIST/raw\n",
      "\n",
      "Downloading http://yann.lecun.com/exdb/mnist/t10k-images-idx3-ubyte.gz\n",
      "Failed to download (trying next):\n",
      "HTTP Error 403: Forbidden\n",
      "\n",
      "Downloading https://ossci-datasets.s3.amazonaws.com/mnist/t10k-images-idx3-ubyte.gz\n",
      "Downloading https://ossci-datasets.s3.amazonaws.com/mnist/t10k-images-idx3-ubyte.gz to ./data/MNIST/raw/t10k-images-idx3-ubyte.gz\n"
     ]
    },
    {
     "name": "stderr",
     "output_type": "stream",
     "text": [
      "100%|██████████| 1.65M/1.65M [00:01<00:00, 1.58MB/s]\n"
     ]
    },
    {
     "name": "stdout",
     "output_type": "stream",
     "text": [
      "Extracting ./data/MNIST/raw/t10k-images-idx3-ubyte.gz to ./data/MNIST/raw\n",
      "\n",
      "Downloading http://yann.lecun.com/exdb/mnist/t10k-labels-idx1-ubyte.gz\n",
      "Failed to download (trying next):\n",
      "HTTP Error 403: Forbidden\n",
      "\n",
      "Downloading https://ossci-datasets.s3.amazonaws.com/mnist/t10k-labels-idx1-ubyte.gz\n",
      "Downloading https://ossci-datasets.s3.amazonaws.com/mnist/t10k-labels-idx1-ubyte.gz to ./data/MNIST/raw/t10k-labels-idx1-ubyte.gz\n"
     ]
    },
    {
     "name": "stderr",
     "output_type": "stream",
     "text": [
      "100%|██████████| 4.54k/4.54k [00:00<00:00, 10.9MB/s]\n"
     ]
    },
    {
     "name": "stdout",
     "output_type": "stream",
     "text": [
      "Extracting ./data/MNIST/raw/t10k-labels-idx1-ubyte.gz to ./data/MNIST/raw\n",
      "\n"
     ]
    },
    {
     "name": "stderr",
     "output_type": "stream",
     "text": [
      "100%|██████████| 469/469 [07:36<00:00,  1.03it/s]\n"
     ]
    },
    {
     "name": "stdout",
     "output_type": "stream",
     "text": [
      "Epoch 0 | Loss: 0.049146399005199036\n"
     ]
    },
    {
     "name": "stderr",
     "output_type": "stream",
     "text": [
      "100%|██████████| 469/469 [07:41<00:00,  1.02it/s]\n"
     ]
    },
    {
     "name": "stdout",
     "output_type": "stream",
     "text": [
      "Epoch 1 | Loss: 0.02586794200180563\n"
     ]
    },
    {
     "name": "stderr",
     "output_type": "stream",
     "text": [
      "100%|██████████| 469/469 [07:57<00:00,  1.02s/it]\n"
     ]
    },
    {
     "name": "stdout",
     "output_type": "stream",
     "text": [
      "Epoch 2 | Loss: 0.02300402133671968\n"
     ]
    },
    {
     "name": "stderr",
     "output_type": "stream",
     "text": [
      "100%|██████████| 469/469 [08:13<00:00,  1.05s/it]\n"
     ]
    },
    {
     "name": "stdout",
     "output_type": "stream",
     "text": [
      "Epoch 3 | Loss: 0.021240384522468042\n"
     ]
    },
    {
     "name": "stderr",
     "output_type": "stream",
     "text": [
      "100%|██████████| 469/469 [07:50<00:00,  1.00s/it]\n"
     ]
    },
    {
     "name": "stdout",
     "output_type": "stream",
     "text": [
      "Epoch 4 | Loss: 0.020092260430076482\n"
     ]
    },
    {
     "name": "stderr",
     "output_type": "stream",
     "text": [
      "100%|██████████| 469/469 [07:50<00:00,  1.00s/it]\n"
     ]
    },
    {
     "name": "stdout",
     "output_type": "stream",
     "text": [
      "Epoch 5 | Loss: 0.01941182227459734\n"
     ]
    },
    {
     "name": "stderr",
     "output_type": "stream",
     "text": [
      "100%|██████████| 469/469 [07:46<00:00,  1.01it/s]\n"
     ]
    },
    {
     "name": "stdout",
     "output_type": "stream",
     "text": [
      "Epoch 6 | Loss: 0.018845362906485225\n"
     ]
    },
    {
     "name": "stderr",
     "output_type": "stream",
     "text": [
      "100%|██████████| 469/469 [07:44<00:00,  1.01it/s]\n"
     ]
    },
    {
     "name": "stdout",
     "output_type": "stream",
     "text": [
      "Epoch 7 | Loss: 0.018302378898013883\n"
     ]
    },
    {
     "name": "stderr",
     "output_type": "stream",
     "text": [
      "100%|██████████| 469/469 [08:17<00:00,  1.06s/it]\n"
     ]
    },
    {
     "name": "stdout",
     "output_type": "stream",
     "text": [
      "Epoch 8 | Loss: 0.018112658981734246\n"
     ]
    },
    {
     "name": "stderr",
     "output_type": "stream",
     "text": [
      "100%|██████████| 469/469 [07:59<00:00,  1.02s/it]"
     ]
    },
    {
     "name": "stdout",
     "output_type": "stream",
     "text": [
      "Epoch 9 | Loss: 0.017569303619804414\n"
     ]
    },
    {
     "name": "stderr",
     "output_type": "stream",
     "text": [
      "\n"
     ]
    },
    {
     "data": {
      "image/png": "[encoded data removed]",
      "text/plain": [
       "<Figure size 640x480 with 1 Axes>"
      ]
     },
     "metadata": {},
     "output_type": "display_data"
    },
    {
     "name": "stderr",
     "output_type": "stream",
     "text": [
      "100%|██████████| 1000/1000 [00:53<00:00, 18.70it/s]\n"
     ]
    },
    {
     "data": {
      "image/png": "[encoded data removed]",
      "text/plain": [
       "<Figure size 1000x200 with 20 Axes>"
      ]
     },
     "metadata": {},
     "output_type": "display_data"
    }
   ],
   "source": [
    "\n",
    "preprocess = transforms.ToTensor()\n",
    "dataset = torchvision.datasets.MNIST(root='./data', download=True, transform=preprocess)\n",
    "dataloader = DataLoader(dataset, batch_size=batch_size, shuffle=True)\n",
    "\n",
    "diffuser = Diffuser(num_timesteps, device=device)\n",
    "model = UNetCond(num_labels=10) #10クラス分類\n",
    "model.to(device)\n",
    "optimizer = Adam(model.parameters(), lr=lr)\n",
    "\n",
    "losses = []\n",
    "for epoch in range(epochs):\n",
    "    loss_sum = 0.0\n",
    "    cnt = 0\n",
    "\n",
    "    # generate samples every epoch ===================\n",
    "    #images, labels = diffuser.sample(model)\n",
    "    #show_images(images, labels)\n",
    "    # ================================================\n",
    "\n",
    "    for images, labels in tqdm(dataloader):\n",
    "        optimizer.zero_grad()\n",
    "        x = images.to(device)\n",
    "        labels = labels.to(device)\n",
    "        t = torch.randint(1, num_timesteps+1, (len(x),), device=device)\n",
    "\n",
    "        x_noisy, noise = diffuser.add_noise(x, t)\n",
    "        noise_pred = model(x_noisy, t, labels) #ラベルも与えて学習\n",
    "        loss = F.mse_loss(noise, noise_pred)\n",
    "\n",
    "        loss.backward()\n",
    "        optimizer.step()\n",
    "\n",
    "        loss_sum += loss.item()\n",
    "        cnt += 1\n",
    "\n",
    "    loss_avg = loss_sum / cnt\n",
    "    losses.append(loss_avg)\n",
    "    print(f'Epoch {epoch} | Loss: {loss_avg}')\n",
    "\n",
    "# plot losses\n",
    "plt.plot(losses)\n",
    "plt.xlabel('Epoch')\n",
    "plt.ylabel('Loss')\n",
    "plt.show()\n",
    "\n",
    "# generate samples\n",
    "images, labels = diffuser.sample(model)\n",
    "show_images(images, labels)"
   ]
  },
  {
   "cell_type": "markdown",
   "metadata": {},
   "source": [
    "## 条件付き拡散モデルの高度化\n",
    "前節では既存のモデルに条件を追加するだけの「単純な条件付き拡散モデル」を実装しました。  \n",
    "  \n",
    "この章での目標は条件によって生成結果をコントロールすることでした、しかし先程実装した単純なモデルでは条件yが軽視され、最悪の場合無視されることもあります。  \n",
    "  \n",
    "なのでこの節からは与えた条件を強調する\"ガイダンス\"という手法を学んでいきます  \n",
    "  \n",
    "はじめにガイダンスを理解する上で必須なスコア関数について学んでいきましょう"
   ]
  },
  {
   "cell_type": "markdown",
   "metadata": {},
   "source": [
    "### スコア関数とは\n",
    "これまで拡散モデルはε_θ(x_t,t)をNNでモデル化し、ノイズを推定していました。  \n",
    "  \n",
    "このときノイズεは以下のような式に従います\n",
    "\n",
    "$$\n",
    "\\varepsilon \\approx -\\sqrt{1 - \\bar{\\alpha}_t} \\nabla_{x_t} \\log p(x_t)\n",
    "\n",
    "$$\n",
    "\n",
    "∇以降は「対数尤度のx_tに関する勾配」であり、これをスコア関数といいます。  \n",
    "  \n",
    "上記の式で注目したいのはεとスコアの間には定数倍分の違いしかないことです。\n",
    "  \n",
    "つまり以下のようなNNでスコアの近似値を推定するモデルにすることもできるということです。\n",
    "  \n",
    "![alt text](pict10-5.png)\n",
    "  \n",
    "ではこの式が成り立つか確かめましょう"
   ]
  },
  {
   "cell_type": "markdown",
   "metadata": {},
   "source": [
    "## ガイダンス\n",
    "前節では拡散モデルが「スコア」を予測するNNによって実現できると学びました  \n",
    "  \n",
    "ここからはスコアベースのモデルを「ガイダンス」という手法で導出していきます。  \n",
    "  \n",
    "まずは分類器を使ったガイダンスからです"
   ]
  },
  {
   "cell_type": "markdown",
   "metadata": {},
   "source": [
    "### 分類器ガイダンス\n",
    "名前の通り分類器(データ分類NN)を用いるのですがどう用いるのか理論で見ていきましょう  \n",
    "  \n",
    "$$\n",
    "p(x_t|y) = \\frac{p(x_t)p(y|x_t)}{p(y)}  \n",
    "$$\n",
    "両辺対数を取ると\n",
    "$$\n",
    "\\log p(x_t|y) = \\log \\frac{p(x_t)p(y|x_t)}{p(y)}\n",
    "$$\n",
    "$$\n",
    "\\log p(x_t|y) =\\log p(x_t) + \\log p(y|x_t) - \\log p(y)\n",
    "$$\n",
    "両辺勾配を取ると\n",
    "$$\n",
    "\\nabla_{x_t} \\log p(x_t|y) = \\nabla_{x_t} \\log p(x_t) + \\nabla_{x_t} \\log p(y|x_t) - \\underbrace{\\nabla_{x_t} \\log p(y)}_{0}\n",
    "$$\n",
    "$$\n",
    "\\underbrace{\\nabla_{x_t} \\log p(x_t|y)}_{このモデルのターゲット} = \\underbrace{\\nabla_{x_t} \\log p(x_t)}_{①スコア} + \\underbrace{\\nabla_{x_t} \\log p(y|x_t)}_{②分類器の逆伝播}\n",
    "$$\n",
    "\n",
    "①は前章で導入として扱ったスコアを予測するニューラルネットワークを使えば推定することができます。  \n",
    "  \n",
    "②は以下の画像のような分類器(ニューラルネットワーク)の逆伝播によって求められます\n",
    "\n",
    "![alt text](pict10-6.png)\n",
    "  \n",
    "②の値は上のようなニューラルネットワークのx_tにおけるクラスyの対数尤度を最も高める方向、  \n",
    "  \n",
    "つまりこの方向に更新すればyに分類される確率が上がる方向ということができます  \n",
    "  \n",
    "分類器ガイダンスのアイデアは条件付きスコアを**スコア**と**分類器**によって表すことです。  \n",
    "  \n",
    "通常分類器ガイダンスには分類機に重みγがハイパーパラメータとして与えられ、調整することができます。  \n",
    "  \n",
    "また、それぞれのニューラルネットワークの出力を使って書くと\n",
    "$$\n",
    "\\nabla_{x_t} \\log p(x_t|y) \\approx s_{\\theta}(x_t,t) + \\gamma \\nabla_{x_t} \\log p_{\\phi}(y|x_t)\n",
    "$$\n",
    "\n",
    "この一連の流れを図式化すると以下のようになる\n",
    "\n",
    "![alt text](pict10-7.png)"
   ]
  },
  {
   "cell_type": "markdown",
   "metadata": {},
   "source": [
    "### 分類器なしガイダンス\n",
    "さて、分類器ガイダンスの概要を見ていきましたが、実用性の面では問題があります。  \n",
    "  \n",
    "それは分類器を別で用意しなければいけないところです。(元も子もないこと言いますね)\n",
    "  \n",
    "前回の式を更に変形して分類器を必要としないガイダンスを導きましょう  \n",
    "  \n",
    "$$\n",
    "\\nabla_{x_t} \\log p(x_t|y) = \\nabla_{x_t} \\log p(x_t) + \\gamma \\nabla_{x_t} \\log p(y|x_t)\n",
    "$$\n",
    "$$\n",
    "\\nabla_{x_t} \\log p(x_t|y) = \\nabla_{x_t} \\log p(x_t) + \\gamma \\nabla_{x_t} \\log \\frac{p(x_t|y)p(y)}{p(x_t)}\n",
    "$$\n",
    "$$\n",
    "\\nabla_{x_t} \\log p(x_t|y) = \\nabla_{x_t} \\log p(x_t) + \\gamma( \\nabla_{x_t} \\log p(x_t|y) + \\underbrace{\\nabla_{x_t} \\log p(y)}_{0} - \\nabla_{x_t} \\log p(x_t))\n",
    "$$\n",
    "$$\n",
    "\\nabla_{x_t} \\log p(x_t|y) = \\nabla_{x_t} \\log p(x_t) + \\gamma( \\nabla_{x_t} \\log p(x_t|y)- \\nabla_{x_t} \\log p(x_t))\n",
    "$$\n",
    "\n",
    "ここで条件付きのスコアと条件なしのスコアが式に出てきました。  \n",
    "  \n",
    "ただ、上で話したように2つモデルを用意するのは手間です。  \n",
    "  \n",
    "なので条件なしスコアを条件∅で表し、条件付きスコア推定と同じように扱うように変更してみます  \n",
    "  \n",
    "こうすることで用意するネットワークが減ります  \n",
    "  \n",
    "$$\n",
    "\\nabla_{x_t} \\log p(x_t|y) \\approx s_{\\theta}(x_t,t,y) + \\gamma (s_{\\theta}(x_t,t,y)-s_{\\theta}(x_t, t, \\emptyset))\n",
    "$$\n",
    "\n",
    "可視化すると以下の通り\n",
    "![alt text](pict10-8.png)  \n",
    "  \n",
    "では実装にはいっていきましょう"
   ]
  },
  {
   "cell_type": "markdown",
   "metadata": {},
   "source": [
    "#### 分類器なしガイダンスの実装\n",
    "実装は1節のコードを少し変更することでできます"
   ]
  },
  {
   "cell_type": "code",
   "execution_count": null,
   "metadata": {},
   "outputs": [
    {
     "name": "stderr",
     "output_type": "stream",
     "text": [
      "/home/yoshida/.pyenv/versions/3.11.8/lib/python3.11/site-packages/torch/cuda/__init__.py:129: UserWarning: CUDA initialization: CUDA unknown error - this may be due to an incorrectly set up environment, e.g. changing env variable CUDA_VISIBLE_DEVICES after program start. Setting the available devices to be zero. (Triggered internally at ../c10/cuda/CUDAFunctions.cpp:108.)\n",
      "  return torch._C._cuda_getDeviceCount() > 0\n",
      "100%|██████████| 469/469 [12:49<00:00,  1.64s/it]\n"
     ]
    },
    {
     "name": "stdout",
     "output_type": "stream",
     "text": [
      "Epoch 0 | Loss: 0.05000191190238319\n"
     ]
    },
    {
     "name": "stderr",
     "output_type": "stream",
     "text": [
      "100%|██████████| 469/469 [12:51<00:00,  1.65s/it]\n"
     ]
    },
    {
     "name": "stdout",
     "output_type": "stream",
     "text": [
      "Epoch 1 | Loss: 0.026740686356354116\n"
     ]
    },
    {
     "name": "stderr",
     "output_type": "stream",
     "text": [
      "100%|██████████| 469/469 [13:01<00:00,  1.67s/it]\n"
     ]
    },
    {
     "name": "stdout",
     "output_type": "stream",
     "text": [
      "Epoch 2 | Loss: 0.023241315444093396\n"
     ]
    },
    {
     "name": "stderr",
     "output_type": "stream",
     "text": [
      "100%|██████████| 469/469 [12:56<00:00,  1.66s/it]\n"
     ]
    },
    {
     "name": "stdout",
     "output_type": "stream",
     "text": [
      "Epoch 3 | Loss: 0.021555566896142353\n"
     ]
    },
    {
     "name": "stderr",
     "output_type": "stream",
     "text": [
      "100%|██████████| 469/469 [12:59<00:00,  1.66s/it]\n"
     ]
    },
    {
     "name": "stdout",
     "output_type": "stream",
     "text": [
      "Epoch 4 | Loss: 0.01966975608479176\n"
     ]
    },
    {
     "name": "stderr",
     "output_type": "stream",
     "text": [
      "100%|██████████| 469/469 [13:00<00:00,  1.66s/it]\n"
     ]
    },
    {
     "name": "stdout",
     "output_type": "stream",
     "text": [
      "Epoch 5 | Loss: 0.01939279313034404\n"
     ]
    },
    {
     "name": "stderr",
     "output_type": "stream",
     "text": [
      "100%|██████████| 469/469 [12:59<00:00,  1.66s/it]\n"
     ]
    },
    {
     "name": "stdout",
     "output_type": "stream",
     "text": [
      "Epoch 6 | Loss: 0.01876289437987657\n"
     ]
    },
    {
     "name": "stderr",
     "output_type": "stream",
     "text": [
      "100%|██████████| 469/469 [12:53<00:00,  1.65s/it]\n"
     ]
    },
    {
     "name": "stdout",
     "output_type": "stream",
     "text": [
      "Epoch 7 | Loss: 0.018048845972222432\n"
     ]
    },
    {
     "name": "stderr",
     "output_type": "stream",
     "text": [
      "100%|██████████| 469/469 [12:59<00:00,  1.66s/it]\n"
     ]
    },
    {
     "name": "stdout",
     "output_type": "stream",
     "text": [
      "Epoch 8 | Loss: 0.018019218732521478\n"
     ]
    },
    {
     "name": "stderr",
     "output_type": "stream",
     "text": [
      "100%|██████████| 469/469 [12:58<00:00,  1.66s/it]"
     ]
    },
    {
     "name": "stdout",
     "output_type": "stream",
     "text": [
      "Epoch 9 | Loss: 0.017511727131490133\n"
     ]
    },
    {
     "name": "stderr",
     "output_type": "stream",
     "text": [
      "\n"
     ]
    },
    {
     "data": {
      "image/png": "[encoded data removed]",
      "text/plain": [
       "<Figure size 640x480 with 1 Axes>"
      ]
     },
     "metadata": {},
     "output_type": "display_data"
    },
    {
     "name": "stderr",
     "output_type": "stream",
     "text": [
      "100%|██████████| 1000/1000 [02:59<00:00,  5.56it/s]\n"
     ]
    },
    {
     "data": {
      "image/png": "[encoded data removed]",
      "text/plain": [
       "<Figure size 1000x200 with 20 Axes>"
      ]
     },
     "metadata": {},
     "output_type": "display_data"
    }
   ],
   "source": [
    "import math\n",
    "import numpy as np\n",
    "import torch\n",
    "import torchvision\n",
    "import matplotlib.pyplot as plt\n",
    "from torchvision import transforms\n",
    "from torch.utils.data import DataLoader\n",
    "from torch.optim import Adam\n",
    "import torch.nn.functional as F\n",
    "from torch import nn\n",
    "from tqdm import tqdm\n",
    "\n",
    "\n",
    "img_size = 28\n",
    "batch_size = 128\n",
    "num_timesteps = 1000\n",
    "epochs = 10\n",
    "lr = 1e-3\n",
    "device = 'cuda' if torch.cuda.is_available() else 'cpu'\n",
    "\n",
    "\n",
    "def show_images(images, labels=None, rows=2, cols=10):\n",
    "    fig = plt.figure(figsize=(cols, rows))\n",
    "    i = 0\n",
    "    for r in range(rows):\n",
    "        for c in range(cols):\n",
    "            ax = fig.add_subplot(rows, cols, i + 1)\n",
    "            plt.imshow(images[i], cmap='gray')\n",
    "            if labels is not None:\n",
    "                ax.set_xlabel(labels[i].item())\n",
    "            ax.get_xaxis().set_ticks([])\n",
    "            ax.get_yaxis().set_ticks([])\n",
    "            i += 1\n",
    "    plt.tight_layout()\n",
    "    plt.show()\n",
    "\n",
    "def _pos_encoding(time_idx, output_dim, device='cpu'):\n",
    "    t, D = time_idx, output_dim\n",
    "    v = torch.zeros(D, device=device)\n",
    "\n",
    "    i = torch.arange(0, D, device=device)\n",
    "    div_term = torch.exp(i / D * math.log(10000))\n",
    "\n",
    "    v[0::2] = torch.sin(t / div_term[0::2])\n",
    "    v[1::2] = torch.cos(t / div_term[1::2])\n",
    "    return v\n",
    "\n",
    "def pos_encoding(timesteps, output_dim, device='cpu'):\n",
    "    batch_size = len(timesteps)\n",
    "    device = timesteps.device\n",
    "    v = torch.zeros(batch_size, output_dim, device=device)\n",
    "    for i in range(batch_size):\n",
    "        v[i] = _pos_encoding(timesteps[i], output_dim, device)\n",
    "    return v\n",
    "\n",
    "class ConvBlock(nn.Module):\n",
    "    def __init__(self, in_ch, out_ch, time_embed_dim):\n",
    "        super().__init__()\n",
    "        self.convs = nn.Sequential(\n",
    "            nn.Conv2d(in_ch, out_ch, 3, padding=1),\n",
    "            nn.BatchNorm2d(out_ch),\n",
    "            nn.ReLU(),\n",
    "            nn.Conv2d(out_ch, out_ch, 3, padding=1),\n",
    "            nn.BatchNorm2d(out_ch),\n",
    "            nn.ReLU()\n",
    "        )\n",
    "        self.mlp = nn.Sequential(\n",
    "            nn.Linear(time_embed_dim, in_ch),\n",
    "            nn.ReLU(),\n",
    "            nn.Linear(in_ch, in_ch)\n",
    "        )\n",
    "\n",
    "    def forward(self, x, v):\n",
    "        N, C, _, _ = x.shape\n",
    "        v = self.mlp(v)\n",
    "        v = v.view(N, C, 1, 1)\n",
    "        y = self.convs(x + v)\n",
    "        return y\n",
    "\n",
    "class UNetCond(nn.Module):\n",
    "    def __init__(self, in_ch=1, time_embed_dim=100, num_labels=None):\n",
    "        super().__init__()\n",
    "        self.time_embed_dim = time_embed_dim\n",
    "\n",
    "        self.down1 = ConvBlock(in_ch, 64, time_embed_dim)\n",
    "        self.down2 = ConvBlock(64, 128, time_embed_dim)\n",
    "        self.bot1 = ConvBlock(128, 256, time_embed_dim)\n",
    "        self.up2 = ConvBlock(128 + 256, 128, time_embed_dim)\n",
    "        self.up1 = ConvBlock(128 + 64, 64, time_embed_dim)\n",
    "        self.out = nn.Conv2d(64, in_ch, 1)\n",
    "\n",
    "        self.maxpool = nn.MaxPool2d(2)\n",
    "        self.upsample = nn.Upsample(scale_factor=2, mode='bilinear')\n",
    "\n",
    "        if num_labels is not None:\n",
    "            self.label_emb = nn.Embedding(num_labels, time_embed_dim)\n",
    "\n",
    "    def forward(self, x, timesteps, labels=None):\n",
    "        t = pos_encoding(timesteps, self.time_embed_dim)\n",
    "\n",
    "        if labels is not None:\n",
    "            t += self.label_emb(labels) #labelsに入力があったときのみ条件を追加\n",
    "\n",
    "        x1 = self.down1(x, t)\n",
    "        x = self.maxpool(x1)\n",
    "        x2 = self.down2(x, t)\n",
    "        x = self.maxpool(x2)\n",
    "\n",
    "        x = self.bot1(x, t)\n",
    "\n",
    "        x = self.upsample(x)\n",
    "        x = torch.cat([x, x2], dim=1)\n",
    "        x = self.up2(x, t)\n",
    "        x = self.upsample(x)\n",
    "        x = torch.cat([x, x1], dim=1)\n",
    "        x = self.up1(x, t)\n",
    "        x = self.out(x)\n",
    "        return x\n",
    "\n",
    "\n",
    "class Diffuser:\n",
    "    def __init__(self, num_timesteps=1000, beta_start=0.0001, beta_end=0.02, device='cpu'):\n",
    "        self.num_timesteps = num_timesteps\n",
    "        self.device = device\n",
    "        self.betas = torch.linspace(beta_start, beta_end, num_timesteps, device=device)\n",
    "        self.alphas = 1 - self.betas\n",
    "        self.alpha_bars = torch.cumprod(self.alphas, dim=0)\n",
    "\n",
    "    def add_noise(self, x_0, t):\n",
    "        T = self.num_timesteps\n",
    "        assert (t >= 1).all() and (t <= T).all()\n",
    "\n",
    "        t_idx = t - 1  # alpha_bars[0] is for t=1\n",
    "        alpha_bar = self.alpha_bars[t_idx]  # (N,)\n",
    "        alpha_bar = alpha_bar.view(alpha_bar.size(0), 1, 1, 1)  # (N, 1, 1, 1)\n",
    "\n",
    "        noise = torch.randn_like(x_0, device=self.device)\n",
    "        x_t = torch.sqrt(alpha_bar) * x_0 + torch.sqrt(1 - alpha_bar) * noise\n",
    "        return x_t, noise\n",
    "\n",
    "    def denoise(self, model, x, t, labels, gamma): #gammaの値によってノイズの強さを調整\n",
    "        T = self.num_timesteps\n",
    "        assert (t >= 1).all() and (t <= T).all()\n",
    "\n",
    "        t_idx = t - 1  # alphas[0] is for t=1\n",
    "        alpha = self.alphas[t_idx]\n",
    "        alpha_bar = self.alpha_bars[t_idx]\n",
    "        alpha_bar_prev = self.alpha_bars[t_idx-1]\n",
    "\n",
    "        N = alpha.size(0)\n",
    "        alpha = alpha.view(N, 1, 1, 1)\n",
    "        alpha_bar = alpha_bar.view(N, 1, 1, 1)\n",
    "        alpha_bar_prev = alpha_bar_prev.view(N, 1, 1, 1)\n",
    "\n",
    "        model.eval()\n",
    "        with torch.no_grad():\n",
    "            eps = model(x, t, labels)\n",
    "            eps_uncond = model(x, t)\n",
    "            eps = eps_uncond + gamma * (eps - eps_uncond)\n",
    "        model.train()\n",
    "\n",
    "        noise = torch.randn_like(x, device=self.device)\n",
    "        noise[t == 1] = 0  # no noise at t=1\n",
    "\n",
    "        mu = (x - ((1-alpha) / torch.sqrt(1-alpha_bar)) * eps) / torch.sqrt(alpha)\n",
    "        std = torch.sqrt((1-alpha) * (1-alpha_bar_prev) / (1-alpha_bar))\n",
    "        return mu + noise * std\n",
    "\n",
    "    def reverse_to_img(self, x):\n",
    "        x = x * 255\n",
    "        x = x.clamp(0, 255)\n",
    "        x = x.to(torch.uint8)\n",
    "        x = x.cpu()\n",
    "        to_pil = transforms.ToPILImage()\n",
    "        return to_pil(x)\n",
    "\n",
    "    def sample(self, model, x_shape=(20, 1, 28, 28), labels=None, gamma=3.0):\n",
    "        batch_size = x_shape[0]\n",
    "        x = torch.randn(x_shape, device=self.device)\n",
    "        if labels is None:\n",
    "            labels = torch.randint(0, 10, (len(x),), device=self.device)\n",
    "\n",
    "        for i in tqdm(range(self.num_timesteps, 0, -1)):\n",
    "            t = torch.tensor([i] * batch_size, device=self.device, dtype=torch.long)\n",
    "            x = self.denoise(model, x, t, labels, gamma)\n",
    "\n",
    "        images = [self.reverse_to_img(x[i]) for i in range(batch_size)]\n",
    "        return images, labels\n",
    "\n",
    "\n",
    "preprocess = transforms.ToTensor()\n",
    "dataset = torchvision.datasets.MNIST(root='./data', download=True, transform=preprocess)\n",
    "dataloader = DataLoader(dataset, batch_size=batch_size, shuffle=True)\n",
    "\n",
    "diffuser = Diffuser(num_timesteps, device=device)\n",
    "model = UNetCond(num_labels=10)\n",
    "model.to(device)\n",
    "optimizer = Adam(model.parameters(), lr=lr)\n",
    "\n",
    "losses = []\n",
    "for epoch in range(epochs):\n",
    "    loss_sum = 0.0\n",
    "    cnt = 0\n",
    "\n",
    "    # generate samples every epoch ===================\n",
    "    #images, labels = diffuser.sample(model)\n",
    "    #show_images(images, labels)\n",
    "    # ================================================\n",
    "\n",
    "    for images, labels in tqdm(dataloader):\n",
    "        optimizer.zero_grad()\n",
    "        x = images.to(device)\n",
    "        labels = labels.to(device)\n",
    "        t = torch.randint(1, num_timesteps+1, (len(x),), device=device)\n",
    "\n",
    "        if np.random.random() < 0.1: #10%の確率でラベルを与えない\n",
    "            labels = None\n",
    "\n",
    "        x_noisy, noise = diffuser.add_noise(x, t)\n",
    "        noise_pred = model(x_noisy, t, labels)\n",
    "        loss = F.mse_loss(noise, noise_pred)\n",
    "\n",
    "        loss.backward()\n",
    "        optimizer.step()\n",
    "\n",
    "        loss_sum += loss.item()\n",
    "        cnt += 1\n",
    "\n",
    "    loss_avg = loss_sum / cnt\n",
    "    losses.append(loss_avg)\n",
    "    print(f'Epoch {epoch} | Loss: {loss_avg}')\n",
    "\n",
    "# plot losses\n",
    "plt.plot(losses)\n",
    "plt.xlabel('Epoch')\n",
    "plt.ylabel('Loss')\n",
    "plt.show()\n",
    "\n",
    "# generate samples\n",
    "images, labels = diffuser.sample(model)\n",
    "show_images(images, labels)"
   ]
  },
  {
   "cell_type": "markdown",
   "metadata": {},
   "source": [
    "## Stable Diffusion\n",
    "これまで実装してきたのは小さな拡散モデルであり、現在実用されているものはこれよりも巨大で最適化されたものです。  \n",
    "  \n",
    "この章の最後にStableDiffusionというテキストなどから画像を生成できる有名なモデルを使って終わりにしたいと思います。  "
   ]
  },
  {
   "cell_type": "markdown",
   "metadata": {},
   "source": [
    "### Stable Diffusionの概要\n",
    "このモデルでは次のように画像とテキストを与えて学習を行います  \n",
    "  \n",
    "![alt text](pict10-9.png)\n",
    "  \n",
    "それぞれの特徴を見ていきましょう  \n",
    "  \n",
    "①潜在空間  \n",
    "②CLIP  \n",
    "③Attention  \n",
    "  \n",
    "①潜在空間  \n",
    "今まで実装してきた拡散モデルは各時刻のデータと入力画像は同じ次元でしたが、StableDiffusionでは画像をVAEと同様のモデルを使って潜在空間に落とし込んで処理をします  \n",
    "  \n",
    "これにより次元数が減り、拡散モデルで行う処理の削減に成功しています  \n",
    "  \n",
    "②CLIP  \n",
    "CLIPはテキストをベクトル変換する学習済みニューラルネットワークです。   \n",
    "  \n",
    "CLIPの学習は画像とテキストをぞれぞれベクトル化するエンコーダを用いて正解同士の画像とテキストのコサイン類似度が高くなるように、異なるペアなら下がるように学習させています  \n",
    "\n",
    "![alt text](picr10-10.png)\n",
    "  \n",
    "③Attention  \n",
    "  \n",
    "CLIPで処理したテキストは「条件」です。  \n",
    "  \n",
    "これらをCross-Attentionを用いてUNetに取り込むことで効率よく条件を取り入れることができます"
   ]
  },
  {
   "cell_type": "code",
   "execution_count": 3,
   "metadata": {},
   "outputs": [
    {
     "name": "stdout",
     "output_type": "stream",
     "text": [
      "Collecting diffusers\n",
      "  Downloading diffusers-0.31.0-py3-none-any.whl.metadata (18 kB)\n",
      "Requirement already satisfied: transformers in /home/yoshida/.pyenv/versions/3.11.8/lib/python3.11/site-packages (4.46.1)\n",
      "Requirement already satisfied: accelerate in /home/yoshida/.pyenv/versions/3.11.8/lib/python3.11/site-packages (1.1.1)\n",
      "Requirement already satisfied: scipy in /home/yoshida/.pyenv/versions/3.11.8/lib/python3.11/site-packages (1.12.0)\n",
      "Requirement already satisfied: safetensors in /home/yoshida/.pyenv/versions/3.11.8/lib/python3.11/site-packages (0.4.5)\n",
      "Collecting importlib-metadata (from diffusers)\n",
      "  Downloading importlib_metadata-8.5.0-py3-none-any.whl.metadata (4.8 kB)\n",
      "Requirement already satisfied: filelock in /home/yoshida/.pyenv/versions/3.11.8/lib/python3.11/site-packages (from diffusers) (3.13.1)\n",
      "Requirement already satisfied: huggingface-hub>=0.23.2 in /home/yoshida/.pyenv/versions/3.11.8/lib/python3.11/site-packages (from diffusers) (0.26.2)\n",
      "Requirement already satisfied: numpy in /home/yoshida/.pyenv/versions/3.11.8/lib/python3.11/site-packages (from diffusers) (1.26.4)\n",
      "Requirement already satisfied: regex!=2019.12.17 in /home/yoshida/.pyenv/versions/3.11.8/lib/python3.11/site-packages (from diffusers) (2024.9.11)\n",
      "Requirement already satisfied: requests in /home/yoshida/.pyenv/versions/3.11.8/lib/python3.11/site-packages (from diffusers) (2.32.3)\n",
      "Requirement already satisfied: Pillow in /home/yoshida/.pyenv/versions/3.11.8/lib/python3.11/site-packages (from diffusers) (10.2.0)\n",
      "Requirement already satisfied: packaging>=20.0 in /home/yoshida/.pyenv/versions/3.11.8/lib/python3.11/site-packages (from transformers) (24.0)\n",
      "Requirement already satisfied: pyyaml>=5.1 in /home/yoshida/.pyenv/versions/3.11.8/lib/python3.11/site-packages (from transformers) (6.0.2)\n",
      "Requirement already satisfied: tokenizers<0.21,>=0.20 in /home/yoshida/.pyenv/versions/3.11.8/lib/python3.11/site-packages (from transformers) (0.20.1)\n",
      "Requirement already satisfied: tqdm>=4.27 in /home/yoshida/.pyenv/versions/3.11.8/lib/python3.11/site-packages (from transformers) (4.66.4)\n",
      "Requirement already satisfied: psutil in /home/yoshida/.pyenv/versions/3.11.8/lib/python3.11/site-packages (from accelerate) (5.9.8)\n",
      "Requirement already satisfied: torch>=1.10.0 in /home/yoshida/.pyenv/versions/3.11.8/lib/python3.11/site-packages (from accelerate) (2.5.1)\n",
      "Requirement already satisfied: fsspec>=2023.5.0 in /home/yoshida/.pyenv/versions/3.11.8/lib/python3.11/site-packages (from huggingface-hub>=0.23.2->diffusers) (2024.2.0)\n",
      "Requirement already satisfied: typing-extensions>=3.7.4.3 in /home/yoshida/.pyenv/versions/3.11.8/lib/python3.11/site-packages (from huggingface-hub>=0.23.2->diffusers) (4.11.0)\n",
      "Requirement already satisfied: networkx in /home/yoshida/.pyenv/versions/3.11.8/lib/python3.11/site-packages (from torch>=1.10.0->accelerate) (3.2.1)\n",
      "Requirement already satisfied: jinja2 in /home/yoshida/.pyenv/versions/3.11.8/lib/python3.11/site-packages (from torch>=1.10.0->accelerate) (3.1.4)\n",
      "Requirement already satisfied: nvidia-cuda-nvrtc-cu12==12.4.127 in /home/yoshida/.pyenv/versions/3.11.8/lib/python3.11/site-packages (from torch>=1.10.0->accelerate) (12.4.127)\n",
      "Requirement already satisfied: nvidia-cuda-runtime-cu12==12.4.127 in /home/yoshida/.pyenv/versions/3.11.8/lib/python3.11/site-packages (from torch>=1.10.0->accelerate) (12.4.127)\n",
      "Requirement already satisfied: nvidia-cuda-cupti-cu12==12.4.127 in /home/yoshida/.pyenv/versions/3.11.8/lib/python3.11/site-packages (from torch>=1.10.0->accelerate) (12.4.127)\n",
      "Requirement already satisfied: nvidia-cudnn-cu12==9.1.0.70 in /home/yoshida/.pyenv/versions/3.11.8/lib/python3.11/site-packages (from torch>=1.10.0->accelerate) (9.1.0.70)\n",
      "Requirement already satisfied: nvidia-cublas-cu12==12.4.5.8 in /home/yoshida/.pyenv/versions/3.11.8/lib/python3.11/site-packages (from torch>=1.10.0->accelerate) (12.4.5.8)\n",
      "Requirement already satisfied: nvidia-cufft-cu12==11.2.1.3 in /home/yoshida/.pyenv/versions/3.11.8/lib/python3.11/site-packages (from torch>=1.10.0->accelerate) (11.2.1.3)\n",
      "Requirement already satisfied: nvidia-curand-cu12==10.3.5.147 in /home/yoshida/.pyenv/versions/3.11.8/lib/python3.11/site-packages (from torch>=1.10.0->accelerate) (10.3.5.147)\n",
      "Requirement already satisfied: nvidia-cusolver-cu12==11.6.1.9 in /home/yoshida/.pyenv/versions/3.11.8/lib/python3.11/site-packages (from torch>=1.10.0->accelerate) (11.6.1.9)\n",
      "Requirement already satisfied: nvidia-cusparse-cu12==12.3.1.170 in /home/yoshida/.pyenv/versions/3.11.8/lib/python3.11/site-packages (from torch>=1.10.0->accelerate) (12.3.1.170)\n",
      "Requirement already satisfied: nvidia-nccl-cu12==2.21.5 in /home/yoshida/.pyenv/versions/3.11.8/lib/python3.11/site-packages (from torch>=1.10.0->accelerate) (2.21.5)\n",
      "Requirement already satisfied: nvidia-nvtx-cu12==12.4.127 in /home/yoshida/.pyenv/versions/3.11.8/lib/python3.11/site-packages (from torch>=1.10.0->accelerate) (12.4.127)\n",
      "Requirement already satisfied: nvidia-nvjitlink-cu12==12.4.127 in /home/yoshida/.pyenv/versions/3.11.8/lib/python3.11/site-packages (from torch>=1.10.0->accelerate) (12.4.127)\n",
      "Requirement already satisfied: triton==3.1.0 in /home/yoshida/.pyenv/versions/3.11.8/lib/python3.11/site-packages (from torch>=1.10.0->accelerate) (3.1.0)\n",
      "Requirement already satisfied: sympy==1.13.1 in /home/yoshida/.pyenv/versions/3.11.8/lib/python3.11/site-packages (from torch>=1.10.0->accelerate) (1.13.1)\n",
      "Requirement already satisfied: mpmath<1.4,>=1.1.0 in /home/yoshida/.pyenv/versions/3.11.8/lib/python3.11/site-packages (from sympy==1.13.1->torch>=1.10.0->accelerate) (1.3.0)\n",
      "Collecting zipp>=3.20 (from importlib-metadata->diffusers)\n",
      "  Downloading zipp-3.21.0-py3-none-any.whl.metadata (3.7 kB)\n",
      "Requirement already satisfied: charset-normalizer<4,>=2 in /home/yoshida/.pyenv/versions/3.11.8/lib/python3.11/site-packages (from requests->diffusers) (3.3.2)\n",
      "Requirement already satisfied: idna<4,>=2.5 in /home/yoshida/.pyenv/versions/3.11.8/lib/python3.11/site-packages (from requests->diffusers) (3.7)\n",
      "Requirement already satisfied: urllib3<3,>=1.21.1 in /home/yoshida/.pyenv/versions/3.11.8/lib/python3.11/site-packages (from requests->diffusers) (2.2.1)\n",
      "Requirement already satisfied: certifi>=2017.4.17 in /home/yoshida/.pyenv/versions/3.11.8/lib/python3.11/site-packages (from requests->diffusers) (2024.2.2)\n",
      "Requirement already satisfied: MarkupSafe>=2.0 in /home/yoshida/.pyenv/versions/3.11.8/lib/python3.11/site-packages (from jinja2->torch>=1.10.0->accelerate) (2.1.5)\n",
      "Downloading diffusers-0.31.0-py3-none-any.whl (2.9 MB)\n",
      "\u001b[2K   \u001b[90m━━━━━━━━━━━━━━━━━━━━━━━━━━━━━━━━━━━━━━━━\u001b[0m \u001b[32m2.9/2.9 MB\u001b[0m \u001b[31m24.3 MB/s\u001b[0m eta \u001b[36m0:00:00\u001b[0m\n",
      "\u001b[?25hDownloading importlib_metadata-8.5.0-py3-none-any.whl (26 kB)\n",
      "Downloading zipp-3.21.0-py3-none-any.whl (9.6 kB)\n",
      "Installing collected packages: zipp, importlib-metadata, diffusers\n",
      "Successfully installed diffusers-0.31.0 importlib-metadata-8.5.0 zipp-3.21.0\n",
      "Note: you may need to restart the kernel to use updated packages.\n"
     ]
    }
   ],
   "source": [
    "pip install diffusers transformers accelerate scipy safetensors"
   ]
  },
  {
   "cell_type": "code",
   "execution_count": 1,
   "metadata": {},
   "outputs": [
    {
     "name": "stderr",
     "output_type": "stream",
     "text": [
      "/home/yoshida/.pyenv/versions/3.11.8/lib/python3.11/site-packages/tqdm/auto.py:21: TqdmWarning: IProgress not found. Please update jupyter and ipywidgets. See https://ipywidgets.readthedocs.io/en/stable/user_install.html\n",
      "  from .autonotebook import tqdm as notebook_tqdm\n",
      "/home/yoshida/.pyenv/versions/3.11.8/lib/python3.11/site-packages/torch/cuda/__init__.py:129: UserWarning: CUDA initialization: CUDA unknown error - this may be due to an incorrectly set up environment, e.g. changing env variable CUDA_VISIBLE_DEVICES after program start. Setting the available devices to be zero. (Triggered internally at ../c10/cuda/CUDAFunctions.cpp:108.)\n",
      "  return torch._C._cuda_getDeviceCount() > 0\n",
      "The installed version of bitsandbytes was compiled without GPU support. 8-bit optimizers, 8-bit multiplication, and GPU quantization are unavailable.\n",
      "Loading pipeline components...: 100%|██████████| 6/6 [00:03<00:00,  1.81it/s]\n"
     ]
    },
    {
     "ename": "RuntimeError",
     "evalue": "CUDA unknown error - this may be due to an incorrectly set up environment, e.g. changing env variable CUDA_VISIBLE_DEVICES after program start. Setting the available devices to be zero.",
     "output_type": "error",
     "traceback": [
      "\u001b[0;31m---------------------------------------------------------------------------\u001b[0m",
      "\u001b[0;31mRuntimeError\u001b[0m                              Traceback (most recent call last)",
      "Cell \u001b[0;32mIn[1], line 9\u001b[0m\n\u001b[1;32m      7\u001b[0m pipe \u001b[38;5;241m=\u001b[39m StableDiffusionPipeline\u001b[38;5;241m.\u001b[39mfrom_pretrained(model_id, torch_dtype\u001b[38;5;241m=\u001b[39mtorch\u001b[38;5;241m.\u001b[39mfloat16)\n\u001b[1;32m      8\u001b[0m pipe\u001b[38;5;241m.\u001b[39mscheduler \u001b[38;5;241m=\u001b[39m DPMSolverMultistepScheduler\u001b[38;5;241m.\u001b[39mfrom_config(pipe\u001b[38;5;241m.\u001b[39mscheduler\u001b[38;5;241m.\u001b[39mconfig)\n\u001b[0;32m----> 9\u001b[0m pipe \u001b[38;5;241m=\u001b[39m \u001b[43mpipe\u001b[49m\u001b[38;5;241;43m.\u001b[39;49m\u001b[43mto\u001b[49m\u001b[43m(\u001b[49m\u001b[38;5;124;43m\"\u001b[39;49m\u001b[38;5;124;43mcuda\u001b[39;49m\u001b[38;5;124;43m\"\u001b[39;49m\u001b[43m)\u001b[49m\n\u001b[1;32m     11\u001b[0m prompt \u001b[38;5;241m=\u001b[39m \u001b[38;5;124m\"\u001b[39m\u001b[38;5;124ma photo of an astronaut riding a horse on mars\u001b[39m\u001b[38;5;124m\"\u001b[39m\n\u001b[1;32m     12\u001b[0m image \u001b[38;5;241m=\u001b[39m pipe(prompt)\u001b[38;5;241m.\u001b[39mimages[\u001b[38;5;241m0\u001b[39m]\n",
      "File \u001b[0;32m~/.pyenv/versions/3.11.8/lib/python3.11/site-packages/diffusers/pipelines/pipeline_utils.py:454\u001b[0m, in \u001b[0;36mDiffusionPipeline.to\u001b[0;34m(self, *args, **kwargs)\u001b[0m\n\u001b[1;32m    452\u001b[0m     module\u001b[38;5;241m.\u001b[39mto(device\u001b[38;5;241m=\u001b[39mdevice)\n\u001b[1;32m    453\u001b[0m \u001b[38;5;28;01melif\u001b[39;00m \u001b[38;5;129;01mnot\u001b[39;00m is_loaded_in_4bit_bnb \u001b[38;5;129;01mand\u001b[39;00m \u001b[38;5;129;01mnot\u001b[39;00m is_loaded_in_8bit_bnb:\n\u001b[0;32m--> 454\u001b[0m     \u001b[43mmodule\u001b[49m\u001b[38;5;241;43m.\u001b[39;49m\u001b[43mto\u001b[49m\u001b[43m(\u001b[49m\u001b[43mdevice\u001b[49m\u001b[43m,\u001b[49m\u001b[43m \u001b[49m\u001b[43mdtype\u001b[49m\u001b[43m)\u001b[49m\n\u001b[1;32m    456\u001b[0m \u001b[38;5;28;01mif\u001b[39;00m (\n\u001b[1;32m    457\u001b[0m     module\u001b[38;5;241m.\u001b[39mdtype \u001b[38;5;241m==\u001b[39m torch\u001b[38;5;241m.\u001b[39mfloat16\n\u001b[1;32m    458\u001b[0m     \u001b[38;5;129;01mand\u001b[39;00m \u001b[38;5;28mstr\u001b[39m(device) \u001b[38;5;129;01min\u001b[39;00m [\u001b[38;5;124m\"\u001b[39m\u001b[38;5;124mcpu\u001b[39m\u001b[38;5;124m\"\u001b[39m]\n\u001b[1;32m    459\u001b[0m     \u001b[38;5;129;01mand\u001b[39;00m \u001b[38;5;129;01mnot\u001b[39;00m silence_dtype_warnings\n\u001b[1;32m    460\u001b[0m     \u001b[38;5;129;01mand\u001b[39;00m \u001b[38;5;129;01mnot\u001b[39;00m is_offloaded\n\u001b[1;32m    461\u001b[0m ):\n\u001b[1;32m    462\u001b[0m     logger\u001b[38;5;241m.\u001b[39mwarning(\n\u001b[1;32m    463\u001b[0m         \u001b[38;5;124m\"\u001b[39m\u001b[38;5;124mPipelines loaded with `dtype=torch.float16` cannot run with `cpu` device. It\u001b[39m\u001b[38;5;124m\"\u001b[39m\n\u001b[1;32m    464\u001b[0m         \u001b[38;5;124m\"\u001b[39m\u001b[38;5;124m is not recommended to move them to `cpu` as running them will fail. Please make\u001b[39m\u001b[38;5;124m\"\u001b[39m\n\u001b[0;32m   (...)\u001b[0m\n\u001b[1;32m    467\u001b[0m         \u001b[38;5;124m\"\u001b[39m\u001b[38;5;124m `torch_dtype=torch.float16` argument, or use another device for inference.\u001b[39m\u001b[38;5;124m\"\u001b[39m\n\u001b[1;32m    468\u001b[0m     )\n",
      "File \u001b[0;32m~/.pyenv/versions/3.11.8/lib/python3.11/site-packages/transformers/modeling_utils.py:3157\u001b[0m, in \u001b[0;36mPreTrainedModel.to\u001b[0;34m(self, *args, **kwargs)\u001b[0m\n\u001b[1;32m   3152\u001b[0m     \u001b[38;5;28;01mif\u001b[39;00m dtype_present_in_args:\n\u001b[1;32m   3153\u001b[0m         \u001b[38;5;28;01mraise\u001b[39;00m \u001b[38;5;167;01mValueError\u001b[39;00m(\n\u001b[1;32m   3154\u001b[0m             \u001b[38;5;124m\"\u001b[39m\u001b[38;5;124mYou cannot cast a GPTQ model in a new `dtype`. Make sure to load the model using `from_pretrained` using the desired\u001b[39m\u001b[38;5;124m\"\u001b[39m\n\u001b[1;32m   3155\u001b[0m             \u001b[38;5;124m\"\u001b[39m\u001b[38;5;124m `dtype` by passing the correct `torch_dtype` argument.\u001b[39m\u001b[38;5;124m\"\u001b[39m\n\u001b[1;32m   3156\u001b[0m         )\n\u001b[0;32m-> 3157\u001b[0m \u001b[38;5;28;01mreturn\u001b[39;00m \u001b[38;5;28;43msuper\u001b[39;49m\u001b[43m(\u001b[49m\u001b[43m)\u001b[49m\u001b[38;5;241;43m.\u001b[39;49m\u001b[43mto\u001b[49m\u001b[43m(\u001b[49m\u001b[38;5;241;43m*\u001b[39;49m\u001b[43margs\u001b[49m\u001b[43m,\u001b[49m\u001b[43m \u001b[49m\u001b[38;5;241;43m*\u001b[39;49m\u001b[38;5;241;43m*\u001b[39;49m\u001b[43mkwargs\u001b[49m\u001b[43m)\u001b[49m\n",
      "File \u001b[0;32m~/.pyenv/versions/3.11.8/lib/python3.11/site-packages/torch/nn/modules/module.py:1340\u001b[0m, in \u001b[0;36mModule.to\u001b[0;34m(self, *args, **kwargs)\u001b[0m\n\u001b[1;32m   1337\u001b[0m         \u001b[38;5;28;01melse\u001b[39;00m:\n\u001b[1;32m   1338\u001b[0m             \u001b[38;5;28;01mraise\u001b[39;00m\n\u001b[0;32m-> 1340\u001b[0m \u001b[38;5;28;01mreturn\u001b[39;00m \u001b[38;5;28;43mself\u001b[39;49m\u001b[38;5;241;43m.\u001b[39;49m\u001b[43m_apply\u001b[49m\u001b[43m(\u001b[49m\u001b[43mconvert\u001b[49m\u001b[43m)\u001b[49m\n",
      "File \u001b[0;32m~/.pyenv/versions/3.11.8/lib/python3.11/site-packages/torch/nn/modules/module.py:900\u001b[0m, in \u001b[0;36mModule._apply\u001b[0;34m(self, fn, recurse)\u001b[0m\n\u001b[1;32m    898\u001b[0m \u001b[38;5;28;01mif\u001b[39;00m recurse:\n\u001b[1;32m    899\u001b[0m     \u001b[38;5;28;01mfor\u001b[39;00m module \u001b[38;5;129;01min\u001b[39;00m \u001b[38;5;28mself\u001b[39m\u001b[38;5;241m.\u001b[39mchildren():\n\u001b[0;32m--> 900\u001b[0m         \u001b[43mmodule\u001b[49m\u001b[38;5;241;43m.\u001b[39;49m\u001b[43m_apply\u001b[49m\u001b[43m(\u001b[49m\u001b[43mfn\u001b[49m\u001b[43m)\u001b[49m\n\u001b[1;32m    902\u001b[0m \u001b[38;5;28;01mdef\u001b[39;00m \u001b[38;5;21mcompute_should_use_set_data\u001b[39m(tensor, tensor_applied):\n\u001b[1;32m    903\u001b[0m     \u001b[38;5;28;01mif\u001b[39;00m torch\u001b[38;5;241m.\u001b[39m_has_compatible_shallow_copy_type(tensor, tensor_applied):\n\u001b[1;32m    904\u001b[0m         \u001b[38;5;66;03m# If the new tensor has compatible tensor type as the existing tensor,\u001b[39;00m\n\u001b[1;32m    905\u001b[0m         \u001b[38;5;66;03m# the current behavior is to change the tensor in-place using `.data =`,\u001b[39;00m\n\u001b[0;32m   (...)\u001b[0m\n\u001b[1;32m    910\u001b[0m         \u001b[38;5;66;03m# global flag to let the user control whether they want the future\u001b[39;00m\n\u001b[1;32m    911\u001b[0m         \u001b[38;5;66;03m# behavior of overwriting the existing tensor or not.\u001b[39;00m\n",
      "File \u001b[0;32m~/.pyenv/versions/3.11.8/lib/python3.11/site-packages/torch/nn/modules/module.py:900\u001b[0m, in \u001b[0;36mModule._apply\u001b[0;34m(self, fn, recurse)\u001b[0m\n\u001b[1;32m    898\u001b[0m \u001b[38;5;28;01mif\u001b[39;00m recurse:\n\u001b[1;32m    899\u001b[0m     \u001b[38;5;28;01mfor\u001b[39;00m module \u001b[38;5;129;01min\u001b[39;00m \u001b[38;5;28mself\u001b[39m\u001b[38;5;241m.\u001b[39mchildren():\n\u001b[0;32m--> 900\u001b[0m         \u001b[43mmodule\u001b[49m\u001b[38;5;241;43m.\u001b[39;49m\u001b[43m_apply\u001b[49m\u001b[43m(\u001b[49m\u001b[43mfn\u001b[49m\u001b[43m)\u001b[49m\n\u001b[1;32m    902\u001b[0m \u001b[38;5;28;01mdef\u001b[39;00m \u001b[38;5;21mcompute_should_use_set_data\u001b[39m(tensor, tensor_applied):\n\u001b[1;32m    903\u001b[0m     \u001b[38;5;28;01mif\u001b[39;00m torch\u001b[38;5;241m.\u001b[39m_has_compatible_shallow_copy_type(tensor, tensor_applied):\n\u001b[1;32m    904\u001b[0m         \u001b[38;5;66;03m# If the new tensor has compatible tensor type as the existing tensor,\u001b[39;00m\n\u001b[1;32m    905\u001b[0m         \u001b[38;5;66;03m# the current behavior is to change the tensor in-place using `.data =`,\u001b[39;00m\n\u001b[0;32m   (...)\u001b[0m\n\u001b[1;32m    910\u001b[0m         \u001b[38;5;66;03m# global flag to let the user control whether they want the future\u001b[39;00m\n\u001b[1;32m    911\u001b[0m         \u001b[38;5;66;03m# behavior of overwriting the existing tensor or not.\u001b[39;00m\n",
      "File \u001b[0;32m~/.pyenv/versions/3.11.8/lib/python3.11/site-packages/torch/nn/modules/module.py:900\u001b[0m, in \u001b[0;36mModule._apply\u001b[0;34m(self, fn, recurse)\u001b[0m\n\u001b[1;32m    898\u001b[0m \u001b[38;5;28;01mif\u001b[39;00m recurse:\n\u001b[1;32m    899\u001b[0m     \u001b[38;5;28;01mfor\u001b[39;00m module \u001b[38;5;129;01min\u001b[39;00m \u001b[38;5;28mself\u001b[39m\u001b[38;5;241m.\u001b[39mchildren():\n\u001b[0;32m--> 900\u001b[0m         \u001b[43mmodule\u001b[49m\u001b[38;5;241;43m.\u001b[39;49m\u001b[43m_apply\u001b[49m\u001b[43m(\u001b[49m\u001b[43mfn\u001b[49m\u001b[43m)\u001b[49m\n\u001b[1;32m    902\u001b[0m \u001b[38;5;28;01mdef\u001b[39;00m \u001b[38;5;21mcompute_should_use_set_data\u001b[39m(tensor, tensor_applied):\n\u001b[1;32m    903\u001b[0m     \u001b[38;5;28;01mif\u001b[39;00m torch\u001b[38;5;241m.\u001b[39m_has_compatible_shallow_copy_type(tensor, tensor_applied):\n\u001b[1;32m    904\u001b[0m         \u001b[38;5;66;03m# If the new tensor has compatible tensor type as the existing tensor,\u001b[39;00m\n\u001b[1;32m    905\u001b[0m         \u001b[38;5;66;03m# the current behavior is to change the tensor in-place using `.data =`,\u001b[39;00m\n\u001b[0;32m   (...)\u001b[0m\n\u001b[1;32m    910\u001b[0m         \u001b[38;5;66;03m# global flag to let the user control whether they want the future\u001b[39;00m\n\u001b[1;32m    911\u001b[0m         \u001b[38;5;66;03m# behavior of overwriting the existing tensor or not.\u001b[39;00m\n",
      "File \u001b[0;32m~/.pyenv/versions/3.11.8/lib/python3.11/site-packages/torch/nn/modules/module.py:927\u001b[0m, in \u001b[0;36mModule._apply\u001b[0;34m(self, fn, recurse)\u001b[0m\n\u001b[1;32m    923\u001b[0m \u001b[38;5;66;03m# Tensors stored in modules are graph leaves, and we don't want to\u001b[39;00m\n\u001b[1;32m    924\u001b[0m \u001b[38;5;66;03m# track autograd history of `param_applied`, so we have to use\u001b[39;00m\n\u001b[1;32m    925\u001b[0m \u001b[38;5;66;03m# `with torch.no_grad():`\u001b[39;00m\n\u001b[1;32m    926\u001b[0m \u001b[38;5;28;01mwith\u001b[39;00m torch\u001b[38;5;241m.\u001b[39mno_grad():\n\u001b[0;32m--> 927\u001b[0m     param_applied \u001b[38;5;241m=\u001b[39m \u001b[43mfn\u001b[49m\u001b[43m(\u001b[49m\u001b[43mparam\u001b[49m\u001b[43m)\u001b[49m\n\u001b[1;32m    928\u001b[0m p_should_use_set_data \u001b[38;5;241m=\u001b[39m compute_should_use_set_data(param, param_applied)\n\u001b[1;32m    930\u001b[0m \u001b[38;5;66;03m# subclasses may have multiple child tensors so we need to use swap_tensors\u001b[39;00m\n",
      "File \u001b[0;32m~/.pyenv/versions/3.11.8/lib/python3.11/site-packages/torch/nn/modules/module.py:1326\u001b[0m, in \u001b[0;36mModule.to.<locals>.convert\u001b[0;34m(t)\u001b[0m\n\u001b[1;32m   1319\u001b[0m     \u001b[38;5;28;01mif\u001b[39;00m convert_to_format \u001b[38;5;129;01mis\u001b[39;00m \u001b[38;5;129;01mnot\u001b[39;00m \u001b[38;5;28;01mNone\u001b[39;00m \u001b[38;5;129;01mand\u001b[39;00m t\u001b[38;5;241m.\u001b[39mdim() \u001b[38;5;129;01min\u001b[39;00m (\u001b[38;5;241m4\u001b[39m, \u001b[38;5;241m5\u001b[39m):\n\u001b[1;32m   1320\u001b[0m         \u001b[38;5;28;01mreturn\u001b[39;00m t\u001b[38;5;241m.\u001b[39mto(\n\u001b[1;32m   1321\u001b[0m             device,\n\u001b[1;32m   1322\u001b[0m             dtype \u001b[38;5;28;01mif\u001b[39;00m t\u001b[38;5;241m.\u001b[39mis_floating_point() \u001b[38;5;129;01mor\u001b[39;00m t\u001b[38;5;241m.\u001b[39mis_complex() \u001b[38;5;28;01melse\u001b[39;00m \u001b[38;5;28;01mNone\u001b[39;00m,\n\u001b[1;32m   1323\u001b[0m             non_blocking,\n\u001b[1;32m   1324\u001b[0m             memory_format\u001b[38;5;241m=\u001b[39mconvert_to_format,\n\u001b[1;32m   1325\u001b[0m         )\n\u001b[0;32m-> 1326\u001b[0m     \u001b[38;5;28;01mreturn\u001b[39;00m \u001b[43mt\u001b[49m\u001b[38;5;241;43m.\u001b[39;49m\u001b[43mto\u001b[49m\u001b[43m(\u001b[49m\n\u001b[1;32m   1327\u001b[0m \u001b[43m        \u001b[49m\u001b[43mdevice\u001b[49m\u001b[43m,\u001b[49m\n\u001b[1;32m   1328\u001b[0m \u001b[43m        \u001b[49m\u001b[43mdtype\u001b[49m\u001b[43m \u001b[49m\u001b[38;5;28;43;01mif\u001b[39;49;00m\u001b[43m \u001b[49m\u001b[43mt\u001b[49m\u001b[38;5;241;43m.\u001b[39;49m\u001b[43mis_floating_point\u001b[49m\u001b[43m(\u001b[49m\u001b[43m)\u001b[49m\u001b[43m \u001b[49m\u001b[38;5;129;43;01mor\u001b[39;49;00m\u001b[43m \u001b[49m\u001b[43mt\u001b[49m\u001b[38;5;241;43m.\u001b[39;49m\u001b[43mis_complex\u001b[49m\u001b[43m(\u001b[49m\u001b[43m)\u001b[49m\u001b[43m \u001b[49m\u001b[38;5;28;43;01melse\u001b[39;49;00m\u001b[43m \u001b[49m\u001b[38;5;28;43;01mNone\u001b[39;49;00m\u001b[43m,\u001b[49m\n\u001b[1;32m   1329\u001b[0m \u001b[43m        \u001b[49m\u001b[43mnon_blocking\u001b[49m\u001b[43m,\u001b[49m\n\u001b[1;32m   1330\u001b[0m \u001b[43m    \u001b[49m\u001b[43m)\u001b[49m\n\u001b[1;32m   1331\u001b[0m \u001b[38;5;28;01mexcept\u001b[39;00m \u001b[38;5;167;01mNotImplementedError\u001b[39;00m \u001b[38;5;28;01mas\u001b[39;00m e:\n\u001b[1;32m   1332\u001b[0m     \u001b[38;5;28;01mif\u001b[39;00m \u001b[38;5;28mstr\u001b[39m(e) \u001b[38;5;241m==\u001b[39m \u001b[38;5;124m\"\u001b[39m\u001b[38;5;124mCannot copy out of meta tensor; no data!\u001b[39m\u001b[38;5;124m\"\u001b[39m:\n",
      "File \u001b[0;32m~/.pyenv/versions/3.11.8/lib/python3.11/site-packages/torch/cuda/__init__.py:319\u001b[0m, in \u001b[0;36m_lazy_init\u001b[0;34m()\u001b[0m\n\u001b[1;32m    317\u001b[0m \u001b[38;5;28;01mif\u001b[39;00m \u001b[38;5;124m\"\u001b[39m\u001b[38;5;124mCUDA_MODULE_LOADING\u001b[39m\u001b[38;5;124m\"\u001b[39m \u001b[38;5;129;01mnot\u001b[39;00m \u001b[38;5;129;01min\u001b[39;00m os\u001b[38;5;241m.\u001b[39menviron:\n\u001b[1;32m    318\u001b[0m     os\u001b[38;5;241m.\u001b[39menviron[\u001b[38;5;124m\"\u001b[39m\u001b[38;5;124mCUDA_MODULE_LOADING\u001b[39m\u001b[38;5;124m\"\u001b[39m] \u001b[38;5;241m=\u001b[39m \u001b[38;5;124m\"\u001b[39m\u001b[38;5;124mLAZY\u001b[39m\u001b[38;5;124m\"\u001b[39m\n\u001b[0;32m--> 319\u001b[0m \u001b[43mtorch\u001b[49m\u001b[38;5;241;43m.\u001b[39;49m\u001b[43m_C\u001b[49m\u001b[38;5;241;43m.\u001b[39;49m\u001b[43m_cuda_init\u001b[49m\u001b[43m(\u001b[49m\u001b[43m)\u001b[49m\n\u001b[1;32m    320\u001b[0m \u001b[38;5;66;03m# Some of the queued calls may reentrantly call _lazy_init();\u001b[39;00m\n\u001b[1;32m    321\u001b[0m \u001b[38;5;66;03m# we need to just return without initializing in that case.\u001b[39;00m\n\u001b[1;32m    322\u001b[0m \u001b[38;5;66;03m# However, we must not let any *other* threads in!\u001b[39;00m\n\u001b[1;32m    323\u001b[0m _tls\u001b[38;5;241m.\u001b[39mis_initializing \u001b[38;5;241m=\u001b[39m \u001b[38;5;28;01mTrue\u001b[39;00m\n",
      "\u001b[0;31mRuntimeError\u001b[0m: CUDA unknown error - this may be due to an incorrectly set up environment, e.g. changing env variable CUDA_VISIBLE_DEVICES after program start. Setting the available devices to be zero."
     ]
    }
   ],
   "source": [
    "import torch\n",
    "from diffusers import StableDiffusionPipeline,DPMSolverMultistepScheduler\n",
    "\n",
    "model_id = \"stabilityai/stable-diffusion-2-1\"\n",
    "\n",
    "# Use the DPMSolverMultistepScheduler (DPM-Solver++) scheduler here instead\n",
    "pipe = StableDiffusionPipeline.from_pretrained(model_id, torch_dtype=torch.float16)\n",
    "pipe.scheduler = DPMSolverMultistepScheduler.from_config(pipe.scheduler.config)\n",
    "pipe = pipe.to(\"cuda\")\n",
    "\n",
    "prompt = \"a photo of an astronaut riding a horse on mars\"\n",
    "image = pipe(prompt).images[0]\n",
    "\n",
    "image.save(\"astronaut_rides_horse.png\")"
   ]
  },
  {
   "cell_type": "code",
   "execution_count": null,
   "metadata": {},
   "outputs": [],
   "source": []
  }
 ],
 "metadata": {
  "kernelspec": {
   "display_name": "Python 3",
   "language": "python",
   "name": "python3"
  },
  "language_info": {
   "codemirror_mode": {
    "name": "ipython",
    "version": 3
   },
   "file_extension": ".py",
   "mimetype": "text/x-python",
   "name": "python",
   "nbconvert_exporter": "python",
   "pygments_lexer": "ipython3",
   "version": "3.11.8"
  }
 },
 "nbformat": 4,
 "nbformat_minor": 2
}
